{
 "cells": [
  {
   "cell_type": "code",
   "execution_count": 1,
   "metadata": {},
   "outputs": [
    {
     "name": "stdout",
     "output_type": "stream",
     "text": [
      "/home/duxin/code/Bottleneck-Minimal-Indexing\n"
     ]
    }
   ],
   "source": [
    "import os\n",
    "os.chdir('../../')\n",
    "!pwd"
   ]
  },
  {
   "cell_type": "code",
   "execution_count": 2,
   "metadata": {},
   "outputs": [],
   "source": [
    "from argparse import Namespace\n",
    "import random\n",
    "import tqdm\n",
    "import numpy as np\n",
    "import pandas as pd\n",
    "import transformers\n",
    "import pyarrow.csv as csv"
   ]
  },
  {
   "cell_type": "code",
   "execution_count": 3,
   "metadata": {},
   "outputs": [],
   "source": [
    "raw_dir = 'data/Marco-Lite/raw'\n",
    "cache_dir = 'data/Marco-Lite/cache'\n",
    "output_dir = 'data/Marco-Lite/output'\n",
    "pretrained_dir = 'data/pretrained'\n",
    "\n",
    "!mkdir -p {raw_dir}\n",
    "!mkdir -p {cache_dir}\n",
    "!mkdir -p {output_dir}\n",
    "!mkdir -p {pretrained_dir}\n",
    "\n",
    "bert_model_identifier = bert_model_path = \"bert-base-uncased\"\n",
    "genq_model_identifier = \"doc2query-t5-base-msmarco\"\n",
    "genq_model_path = f\"{pretrained_dir}/doc2query-t5-base-msmarco\""
   ]
  },
  {
   "cell_type": "markdown",
   "metadata": {},
   "source": [
    "# 1. Preparation"
   ]
  },
  {
   "cell_type": "markdown",
   "metadata": {},
   "source": [
    "## 1.1 Download and preprocess the MS MARCO dataset"
   ]
  },
  {
   "cell_type": "markdown",
   "metadata": {},
   "source": [
    "https://github.com/microsoft/msmarco/\n",
    "\n",
    "| Type   | Filename                                                                                                              | File size |              Num Records | Format                                                         |\n",
    "|--------|-----------------------------------------------------------------------------------------------------------------------|----------:|-------------------------:|----------------------------------------------------------------|\n",
    "| Corpus | [msmarco-docs.tsv](https://msmarco.z22.web.core.windows.net/msmarcoranking/msmarco-docs.tsv.gz)                          |     22 GB |               3,213,835  | tsv: docid, url, title, body                                   |\n",
    "| Corpus | [msmarco-docs.trec](https://msmarco.z22.web.core.windows.net/msmarcoranking/msmarco-docs.trec.gz)                        |     22 GB |               3,213,835  | TREC DOC format (same content as msmarco-docs.tsv)                                               |\n",
    "| Corpus | [msmarco-docs-lookup.tsv](https://msmarco.z22.web.core.windows.net/msmarcoranking/msmarco-docs-lookup.tsv.gz)            |    101 MB |               3,213,835  | tsv: docid, offset_trec, offset_tsv                            |\n",
    "| Train  | [msmarco-doctrain-queries.tsv](https://msmarco.z22.web.core.windows.net/msmarcoranking/msmarco-doctrain-queries.tsv.gz)  |     15 MB |                 367,013  | tsv: qid, query                                                |\n",
    "| Train  | [msmarco-doctrain-top100](https://msmarco.z22.web.core.windows.net/msmarcoranking/msmarco-doctrain-top100.gz)            |    1.8 GB |              36,701,116  | TREC submission: qid, \"Q0\", docid, rank, score, runstring      |\n",
    "| Train  | [msmarco-doctrain-qrels.tsv](https://msmarco.z22.web.core.windows.net/msmarcoranking/msmarco-doctrain-qrels.tsv.gz)      |    7.6 MB |                 384,597  | TREC qrels format                                              |\n",
    "| Train  | [msmarco-doctriples.py](https://github.com/microsoft/TREC-2019-Deep-Learning/blob/master/utils/msmarco-doctriples.py) |         - |                       -  | Python script generates training triples |\n",
    "| Dev    | [msmarco-docdev-queries.tsv](https://msmarco.z22.web.core.windows.net/msmarcoranking/msmarco-docdev-queries.tsv.gz)      |    216 KB |                   5,193  | tsv: qid, query                                                |\n",
    "| Dev    | [msmarco-docdev-top100](https://msmarco.z22.web.core.windows.net/msmarcoranking/msmarco-docdev-top100.gz)        |       27 MB |                     519,300  | TREC submission: qid, \"Q0\", docid, rank, score, runstring      |\n",
    "| Dev    | [msmarco-docdev-qrels.tsv](https://msmarco.z22.web.core.windows.net/msmarcoranking/msmarco-docdev-qrels.tsv.gz)          |    112 KB |                   5,478  | TREC qrels format                                              |\n",
    "| Test    | [docleaderboard-queries.tsv](https://msmarco.z22.web.core.windows.net/msmarcoranking/docleaderboard-queries.tsv.gz)          |     124K |                   5,793  | tsv: qid, query                                              |\n",
    "| Test    | [docleaderboard-top100](https://msmarco.z22.web.core.windows.net/msmarcoranking/docleaderboard-top100.tsv.gz)          |   2.9M |                  579,300  | TREC submission: qid, \"Q0\", docid, rank, score, runstring       |\n"
   ]
  },
  {
   "cell_type": "code",
   "execution_count": null,
   "metadata": {},
   "outputs": [],
   "source": [
    "## Download the following:\n",
    "## - msmarco-docs.tsv\n",
    "## - msmarco-doctrain-quries.tsv\n",
    "## - msmarco-doctrain-qrels.tsv\n",
    "## - msmarco-docdev-qrels.tsv\n",
    "\n",
    "!wget -S --header=\"accept-encoding: gzip\" \\\n",
    "    -O {raw_dir}/msmarco-docs.tsv.gz \\\n",
    "    https://msmarco.z22.web.core.windows.net/msmarcoranking/msmarco-docs.tsv.gz \\\n",
    "\n",
    "!wget -S --header=\"accept-encoding: gzip\" \\\n",
    "    -O {raw_dir}/msmarco-doctrain-queries.tsv.gz \\\n",
    "    https://msmarco.z22.web.core.windows.net/msmarcoranking/msmarco-doctrain-queries.tsv.gz\n",
    "\n",
    "!wget -S --header=\"accept-encoding: gzip\" \\\n",
    "    -O {raw_dir}/msmarco-docdev-queries.tsv.gz \\\n",
    "    https://msmarco.z22.web.core.windows.net/msmarcoranking/msmarco-docdev-queries.tsv.gz\n",
    "\n",
    "!wget -S --header=\"accept-encoding: gzip\" \\\n",
    "    -O {raw_dir}/msmarco-doctrain-qrels.tsv.gz \\\n",
    "    https://msmarco.z22.web.core.windows.net/msmarcoranking/msmarco-doctrain-qrels.tsv.gz\n",
    "\n",
    "!wget -S --header=\"accept-encoding: gzip\" \\\n",
    "    -O {raw_dir}/msmarco-docdev-qrels.tsv.gz \\\n",
    "    https://msmarco.z22.web.core.windows.net/msmarcoranking/msmarco-docdev-qrels.tsv.gz"
   ]
  },
  {
   "cell_type": "code",
   "execution_count": 4,
   "metadata": {},
   "outputs": [
    {
     "name": "stdout",
     "output_type": "stream",
     "text": [
      "docs.shape: (3213835, 4)\n"
     ]
    }
   ],
   "source": [
    "def load_docs():\n",
    "    docs = csv.read_csv(\n",
    "        f'{raw_dir}/msmarco-docs.tsv.gz',\n",
    "        read_options=csv.ReadOptions(block_size=2**25, column_names=['docid', 'url', 'title', 'doc']),\n",
    "        parse_options=csv.ParseOptions(invalid_row_handler=lambda invalidrow:\"skip\", delimiter=\"\\t\")\n",
    "    ).to_pandas()\n",
    "    return docs\n",
    "\n",
    "docs_full = load_docs()\n",
    "print('docs_full.shape:', docs_full.shape)"
   ]
  },
  {
   "cell_type": "code",
   "execution_count": null,
   "metadata": {},
   "outputs": [],
   "source": []
  },
  {
   "cell_type": "code",
   "execution_count": 116,
   "metadata": {
    "editable": true,
    "slideshow": {
     "slide_type": ""
    },
    "tags": []
   },
   "outputs": [
    {
     "name": "stdout",
     "output_type": "stream",
     "text": [
      "qrels_train_full.shape: (367013, 4)\n",
      "queries_train_full.shape: (367013, 5)\n",
      "qrels_dev_full.shape: (5193, 4)\n",
      "queries_dev_full.shape: (5193, 5)\n"
     ]
    }
   ],
   "source": [
    "qrels_train_full = csv.read_csv(\n",
    "    f\"{raw_dir}/msmarco-doctrain-qrels.tsv.gz\",\n",
    "    read_options=csv.ReadOptions(column_names=[\"queryid\",\"iteration\",\"docid\",\"relevance\"]),\n",
    "    parse_options=csv.ParseOptions(delimiter=\" \"),\n",
    ").to_pandas()\n",
    "queries_train_full = csv.read_csv(\n",
    "    f\"{raw_dir}/msmarco-doctrain-queries.tsv.gz\",\n",
    "    read_options=csv.ReadOptions(column_names=[\"queryid\", \"query\"]),\n",
    "    parse_options=csv.ParseOptions(delimiter=\"\\t\"),\n",
    ").to_pandas()\n",
    "queries_train_full = pd.merge(queries_train_full, qrels_train_full, on=\"queryid\")\n",
    "queries_train_full['query'] = queries_train_full['query'].str.strip()\n",
    "print('qrels_train_full.shape:', qrels_train_full.shape)\n",
    "print('queries_train_full.shape:', queries_train_full.shape)\n",
    "\n",
    "qrels_dev_full = csv.read_csv(\n",
    "    f\"{raw_dir}/msmarco-docdev-qrels.tsv.gz\",\n",
    "    read_options=csv.ReadOptions(column_names=[\"queryid\",\"iteration\",\"docid\",\"relevance\"]),\n",
    "    parse_options=csv.ParseOptions(delimiter=\" \"),\n",
    ").to_pandas()\n",
    "queries_dev_full = csv.read_csv(\n",
    "    f\"{raw_dir}/msmarco-docdev-queries.tsv.gz\",\n",
    "    read_options=csv.ReadOptions(column_names=[\"queryid\", \"query\"]),\n",
    "    parse_options=csv.ParseOptions(delimiter=\"\\t\"),\n",
    ").to_pandas()\n",
    "queries_dev_full['query'] = queries_dev_full['query'].str.strip()\n",
    "queries_dev_full = pd.merge(queries_dev_full, qrels_dev_full, on=\"queryid\")\n",
    "print('qrels_dev_full.shape:', qrels_dev_full.shape)\n",
    "print('queries_dev_full.shape:', queries_dev_full.shape)"
   ]
  },
  {
   "cell_type": "markdown",
   "metadata": {},
   "source": [
    "## 1.2 Extract a part of MS MARCO as \"Lite\""
   ]
  },
  {
   "cell_type": "code",
   "execution_count": 182,
   "metadata": {
    "editable": true,
    "slideshow": {
     "slide_type": ""
    },
    "tags": []
   },
   "outputs": [],
   "source": [
    "docids = pd.read_csv(f\"{raw_dir}/docids.tsv\")['docid']\n",
    "docs = docs_full.set_index(\"docid\").loc[docids].reset_index()\n",
    "\n",
    "train = pd.merge(\n",
    "    pd.read_csv(f\"{raw_dir}/query2docid.train.tsv\", sep='\\t'), docs[['docid', 'title', 'doc']],\n",
    "    on='docid', how=\"left\")\n",
    "dev = pd.merge(\n",
    "    pd.read_csv(f\"{raw_dir}/query2docid.dev.tsv\", sep='\\t'), docs[['docid', 'title', 'doc']],\n",
    "    on='docid', how=\"left\")"
   ]
  },
  {
   "cell_type": "code",
   "execution_count": 184,
   "metadata": {},
   "outputs": [],
   "source": [
    "train['doc'] = train['title'] + \" \" + train['doc']\n",
    "dev['doc'] = dev['title'] + \" \" + dev['doc']\n",
    "docs['doc'] = docs['title'] + \" \" + docs['doc']"
   ]
  },
  {
   "cell_type": "code",
   "execution_count": 185,
   "metadata": {},
   "outputs": [],
   "source": [
    "train[['query', 'docid', 'doc']].to_csv(f\"{raw_dir}/train.tsv\", sep=\"\\t\", index=False)\n",
    "dev[['query', 'docid', 'doc']].to_csv(f\"{raw_dir}/dev.tsv\", sep=\"\\t\", index=False)"
   ]
  },
  {
   "cell_type": "code",
   "execution_count": 192,
   "metadata": {},
   "outputs": [],
   "source": [
    "docs[['docid', 'doc']].to_csv(f\"{raw_dir}/docs.tsv\", sep=\"\\t\", index=False)"
   ]
  },
  {
   "cell_type": "code",
   "execution_count": null,
   "metadata": {},
   "outputs": [],
   "source": []
  },
  {
   "cell_type": "markdown",
   "metadata": {},
   "source": [
    "## 1.3 Generate queries with a document-to-query (docT5query) model"
   ]
  },
  {
   "cell_type": "markdown",
   "metadata": {},
   "source": [
    "### 1.3.1 Download docT5model"
   ]
  },
  {
   "cell_type": "code",
   "execution_count": 193,
   "metadata": {},
   "outputs": [
    {
     "name": "stderr",
     "output_type": "stream",
     "text": [
      "/home/duxin/.pyenv/versions/3.10.11/envs/BMI/lib/python3.10/site-packages/huggingface_hub/file_download.py:1132: FutureWarning: `resume_download` is deprecated and will be removed in version 1.0.0. Downloads always resume when possible. If you want to force a new download, use `force_download=True`.\n",
      "  warnings.warn(\n"
     ]
    }
   ],
   "source": [
    "import transformers\n",
    "\n",
    "if not os.path.exists(f\"{pretrained_dir}/doc2query-t5-base-msmarco\"):\n",
    "    identifier = \"castorini/doc2query-t5-base-msmarco\"\n",
    "    model = transformers.T5ForConditionalGeneration.from_pretrained(identifier)\n",
    "    tokenizer = transformers.T5TokenizerFast.from_pretrained(identifier)\n",
    "    \n",
    "    os.makedirs(pretrained_dir, exist_ok=True)\n",
    "    model.save_pretrained(f\"{pretrained_dir}/doc2query-t5-base-msmarco\")\n",
    "    tokenizer.save_pretrained(f\"{pretrained_dir}/doc2query-t5-base-msmarco\")"
   ]
  },
  {
   "cell_type": "markdown",
   "metadata": {},
   "source": [
    "### 1.3.2 Generate five queries for each document"
   ]
  },
  {
   "cell_type": "markdown",
   "metadata": {},
   "source": [
    "This generation process takes approximately 15 minutes on four RTX4090 GPUs."
   ]
  },
  {
   "cell_type": "code",
   "execution_count": 202,
   "metadata": {},
   "outputs": [
    {
     "name": "stderr",
     "output_type": "stream",
     "text": [
      "100%|████████████████████████████████████████████████████████████| 8654/8654 [16:33<00:00,  8.71it/s]\n"
     ]
    },
    {
     "name": "stdout",
     "output_type": "stream",
     "text": [
      "Initializing ...\n",
      "Initialization finished\n",
      "Initializing ...\n",
      "Initialization finished\n",
      "Initializing ...\n",
      "Initialization finished\n"
     ]
    }
   ],
   "source": [
    "import preprocess.genq\n",
    "args = Namespace(\n",
    "    model_path=genq_model_path,\n",
    "    docs_path=f\"{raw_dir}/docs.tsv\",\n",
    "    output_path=f\"{cache_dir}/{genq_model_identifier}/genq.tsv\",\n",
    "    doc_max_len=512,\n",
    "    query_max_len=32,\n",
    "    genq_per_doc=5,\n",
    "    n_gpus=4,\n",
    "    batch_size=16,\n",
    ")\n",
    "preprocess.genq.main(args)"
   ]
  },
  {
   "cell_type": "code",
   "execution_count": null,
   "metadata": {},
   "outputs": [],
   "source": []
  },
  {
   "cell_type": "markdown",
   "metadata": {},
   "source": [
    "# 2. Hierarchical K-means Indexing (HKmI)"
   ]
  },
  {
   "cell_type": "markdown",
   "metadata": {},
   "source": [
    "## 2.1 Produce for every document a BERT embedding"
   ]
  },
  {
   "cell_type": "markdown",
   "metadata": {},
   "source": [
    "Encode every document in `docs.tsv` as a vector. The embeddings will be saved as `doc_emb.h5`.\n",
    "\n",
    "The encoding process will take approximately 6 minutes on four RTX4090 GPUs."
   ]
  },
  {
   "cell_type": "code",
   "execution_count": 4,
   "metadata": {},
   "outputs": [
    {
     "name": "stdout",
     "output_type": "stream",
     "text": [
      "Initializing ...\n",
      "Initializing ...\n",
      "Initializing ...\n",
      "Initializing ..."
     ]
    },
    {
     "name": "stderr",
     "output_type": "stream",
     "text": [
      "  0%|                                                                     | 0/138457 [00:00<?, ?it/s]"
     ]
    },
    {
     "name": "stdout",
     "output_type": "stream",
     "text": [
      "\n"
     ]
    },
    {
     "name": "stderr",
     "output_type": "stream",
     "text": [
      "/home/duxin/.pyenv/versions/3.10.11/envs/BMI/lib/python3.10/site-packages/huggingface_hub/file_download.py:1132: FutureWarning: `resume_download` is deprecated and will be removed in version 1.0.0. Downloads always resume when possible. If you want to force a new download, use `force_download=True`.\n",
      "  warnings.warn(\n",
      "/home/duxin/.pyenv/versions/3.10.11/envs/BMI/lib/python3.10/site-packages/huggingface_hub/file_download.py:1132: FutureWarning: `resume_download` is deprecated and will be removed in version 1.0.0. Downloads always resume when possible. If you want to force a new download, use `force_download=True`.\n",
      "  warnings.warn(\n",
      "/home/duxin/.pyenv/versions/3.10.11/envs/BMI/lib/python3.10/site-packages/huggingface_hub/file_download.py:1132: FutureWarning: `resume_download` is deprecated and will be removed in version 1.0.0. Downloads always resume when possible. If you want to force a new download, use `force_download=True`.\n",
      "  warnings.warn(\n",
      "/home/duxin/.pyenv/versions/3.10.11/envs/BMI/lib/python3.10/site-packages/huggingface_hub/file_download.py:1132: FutureWarning: `resume_download` is deprecated and will be removed in version 1.0.0. Downloads always resume when possible. If you want to force a new download, use `force_download=True`.\n",
      "  warnings.warn(\n"
     ]
    },
    {
     "name": "stdout",
     "output_type": "stream",
     "text": [
      "Initialization finished\n"
     ]
    },
    {
     "name": "stderr",
     "output_type": "stream",
     "text": [
      "  0%|                                                         | 20/138457 [00:07<14:12:02,  2.71it/s]"
     ]
    },
    {
     "name": "stdout",
     "output_type": "stream",
     "text": [
      "Initialization finished\n",
      "Initialization finished\n"
     ]
    },
    {
     "name": "stderr",
     "output_type": "stream",
     "text": [
      "  0%|                                                          | 60/138457 [00:07<3:46:32, 10.18it/s]"
     ]
    },
    {
     "name": "stdout",
     "output_type": "stream",
     "text": [
      "Initialization finished\n"
     ]
    },
    {
     "name": "stderr",
     "output_type": "stream",
     "text": [
      "100%|███████████████████████████████████████████████████████| 138457/138457 [04:03<00:00, 567.67it/s]\n"
     ]
    }
   ],
   "source": [
    "import preprocess.bert_embedding\n",
    "args = Namespace(\n",
    "    docs_path=f\"{raw_dir}/docs.tsv\",\n",
    "    output_path=f\"{cache_dir}/{bert_model_identifier}/doc_emb.h5\",\n",
    "    model_path=bert_model_path,\n",
    "    max_len=512,\n",
    "    n_gpus=4,\n",
    "    text_col=\"doc\",\n",
    ")\n",
    "preprocess.bert_embedding.main(args)"
   ]
  },
  {
   "cell_type": "markdown",
   "metadata": {},
   "source": [
    "## 2.2 Apply K-means clustering on documents"
   ]
  },
  {
   "cell_type": "markdown",
   "metadata": {},
   "source": [
    "Applying hierarchical K-means on document embeddings.\n",
    "\n",
    "Every document will be assigned an ID string, which will be saved as `docid2index.tsv`"
   ]
  },
  {
   "cell_type": "code",
   "execution_count": 56,
   "metadata": {},
   "outputs": [
    {
     "name": "stdout",
     "output_type": "stream",
     "text": [
      "(138457, 768)\n",
      "Wed May 22 00:15:52 2024 Start First Clustering\n",
      "(138457,)\n",
      "150\n",
      "Wed May 22 00:15:53 2024 Start Recursively Clustering...\n"
     ]
    },
    {
     "name": "stderr",
     "output_type": "stream",
     "text": [
      "100%|████████████████████████████████████████████████████████████████| 30/30 [00:18<00:00,  1.59it/s]\n"
     ]
    }
   ],
   "source": [
    "import preprocess.kmeans\n",
    "\n",
    "args = Namespace(\n",
    "    embedding_path=f\"{cache_dir}/{bert_model_identifier}/doc_emb.h5\",\n",
    "    output_path=f\"{cache_dir}/{bert_model_identifier}/docid2index.HKmI.tsv\",\n",
    "    v_dim=768,\n",
    "    k=30,\n",
    "    c=30,\n",
    "    seed=7,\n",
    "    n_init=1,   # can be increased to 10/100 to enhance quality at the cost of running time\n",
    "    tol=1e-6,\n",
    ")\n",
    "preprocess.kmeans.main(args)"
   ]
  },
  {
   "cell_type": "markdown",
   "metadata": {},
   "source": [
    "## 2.3 Use document segments as queries"
   ]
  },
  {
   "cell_type": "markdown",
   "metadata": {},
   "source": [
    "For every document, we random select 10~12 segments of 64 tokens as queries."
   ]
  },
  {
   "cell_type": "code",
   "execution_count": 57,
   "metadata": {},
   "outputs": [],
   "source": [
    "def get_seg(tokens):\n",
    "    begin = random.randrange(0, max(1, len(tokens) - 64))\n",
    "    end = begin + 64\n",
    "    seg = ' '.join(tokens[begin: end])\n",
    "    return seg\n",
    "\n",
    "docs = pd.read_csv(f\"{raw_dir}/docs.tsv\", sep=\"\\t\", index_col=\"docid\", na_filter=False)\n",
    "\n",
    "with open(f\"{cache_dir}/docseg.tsv\", \"wt\", encoding=\"utf8\") as f:\n",
    "    f.write(\"docid\\tquery\\n\")\n",
    "\n",
    "    for docid, doc in docs[\"doc\"].items():\n",
    "        tokens = doc.split(\" \")\n",
    "        nsegs = 10 + max(0, len(tokens)-3000) // 3000\n",
    "        for _ in range(nsegs):\n",
    "            seg = get_seg(tokens)\n",
    "            f.write(f\"{docid}\\t{seg}\\n\")"
   ]
  },
  {
   "cell_type": "markdown",
   "metadata": {},
   "source": [
    "## 2.4 Compiling training data for training retrieval model"
   ]
  },
  {
   "cell_type": "markdown",
   "metadata": {},
   "source": [
    "- training set\n",
    "\n",
    "A training sample should have three entries: *query, index, docid*\n",
    "\n",
    "| File Name | Description |\n",
    "| --- | --- |\n",
    "| realq_train.tsv | real queries (ground truth) |\n",
    "| genq.tsv  | generated queries from documents |\n",
    "| title_abs.tsv | concatenation of document title and abstract as query |\n",
    "| docseg.tsv | document segments as queries |\n",
    "\n",
    "- dev (evaluation) set\n",
    "\n",
    "A validation sample should have two entries: *query, docid*\n",
    "\n",
    "| File Name | Description |\n",
    "| --- | --- |\n",
    "| realq_dev.tsv | real queries (ground truth) |\n",
    "\n",
    "- supporting files\n",
    "\n",
    "| File Name | Description |\n",
    "| --- | --- |\n",
    "| docid2index.tsv | mapping from docid to index, used for evaluation |"
   ]
  },
  {
   "cell_type": "code",
   "execution_count": 58,
   "metadata": {},
   "outputs": [],
   "source": [
    "import BMI.io\n",
    "from BMI.io import (\n",
    "    StringIndexing,\n",
    "    DocumentRetrievalTrainingFile,\n",
    "    DocumentRetrievalInferenceFile,\n",
    "    intarray_to_string,\n",
    ")\n"
   ]
  },
  {
   "cell_type": "code",
   "execution_count": 6,
   "metadata": {},
   "outputs": [],
   "source": [
    "hkmi_dirname = f\"HKmI.{bert_model_identifier}.{genq_model_identifier}\"\n",
    "os.makedirs(f\"{output_dir}/{hkmi_dirname}\", exist_ok=True)"
   ]
  },
  {
   "cell_type": "code",
   "execution_count": 60,
   "metadata": {},
   "outputs": [],
   "source": [
    "docs = pd.read_csv(f\"{raw_dir}/docs.tsv\", sep=\"\\t\", na_filter=False)\n",
    "docid2index = StringIndexing.from_tsv(f\"{cache_dir}/{bert_model_identifier}/docid2index.HKmI.tsv\")"
   ]
  },
  {
   "cell_type": "code",
   "execution_count": 61,
   "metadata": {},
   "outputs": [
    {
     "data": {
      "text/html": [
       "<div>\n",
       "<style scoped>\n",
       "    .dataframe tbody tr th:only-of-type {\n",
       "        vertical-align: middle;\n",
       "    }\n",
       "\n",
       "    .dataframe tbody tr th {\n",
       "        vertical-align: top;\n",
       "    }\n",
       "\n",
       "    .dataframe thead th {\n",
       "        text-align: right;\n",
       "    }\n",
       "</style>\n",
       "<table border=\"1\" class=\"dataframe\">\n",
       "  <thead>\n",
       "    <tr style=\"text-align: right;\">\n",
       "      <th></th>\n",
       "      <th>docid</th>\n",
       "      <th>index</th>\n",
       "    </tr>\n",
       "  </thead>\n",
       "  <tbody>\n",
       "    <tr>\n",
       "      <th>0</th>\n",
       "      <td>D3233725</td>\n",
       "      <td>(28, 14, 16, 0)</td>\n",
       "    </tr>\n",
       "    <tr>\n",
       "      <th>1</th>\n",
       "      <td>D1885729</td>\n",
       "      <td>(23, 25, 1, 0)</td>\n",
       "    </tr>\n",
       "    <tr>\n",
       "      <th>2</th>\n",
       "      <td>D15500</td>\n",
       "      <td>(27, 20, 14, 0)</td>\n",
       "    </tr>\n",
       "    <tr>\n",
       "      <th>3</th>\n",
       "      <td>D2456256</td>\n",
       "      <td>(28, 2, 23, 0)</td>\n",
       "    </tr>\n",
       "    <tr>\n",
       "      <th>4</th>\n",
       "      <td>D3205738</td>\n",
       "      <td>(1, 7, 22, 0)</td>\n",
       "    </tr>\n",
       "    <tr>\n",
       "      <th>...</th>\n",
       "      <td>...</td>\n",
       "      <td>...</td>\n",
       "    </tr>\n",
       "    <tr>\n",
       "      <th>138452</th>\n",
       "      <td>D2169873</td>\n",
       "      <td>(25, 4, 12, 5)</td>\n",
       "    </tr>\n",
       "    <tr>\n",
       "      <th>138453</th>\n",
       "      <td>D712256</td>\n",
       "      <td>(5, 20, 20, 1)</td>\n",
       "    </tr>\n",
       "    <tr>\n",
       "      <th>138454</th>\n",
       "      <td>D3221007</td>\n",
       "      <td>(4, 17, 21, 1)</td>\n",
       "    </tr>\n",
       "    <tr>\n",
       "      <th>138455</th>\n",
       "      <td>D3112790</td>\n",
       "      <td>(12, 9, 10, 3)</td>\n",
       "    </tr>\n",
       "    <tr>\n",
       "      <th>138456</th>\n",
       "      <td>D2803363</td>\n",
       "      <td>(17, 13, 12, 12)</td>\n",
       "    </tr>\n",
       "  </tbody>\n",
       "</table>\n",
       "<p>138457 rows × 2 columns</p>\n",
       "</div>"
      ],
      "text/plain": [
       "           docid             index\n",
       "0       D3233725   (28, 14, 16, 0)\n",
       "1       D1885729    (23, 25, 1, 0)\n",
       "2         D15500   (27, 20, 14, 0)\n",
       "3       D2456256    (28, 2, 23, 0)\n",
       "4       D3205738     (1, 7, 22, 0)\n",
       "...          ...               ...\n",
       "138452  D2169873    (25, 4, 12, 5)\n",
       "138453   D712256    (5, 20, 20, 1)\n",
       "138454  D3221007    (4, 17, 21, 1)\n",
       "138455  D3112790    (12, 9, 10, 3)\n",
       "138456  D2803363  (17, 13, 12, 12)\n",
       "\n",
       "[138457 rows x 2 columns]"
      ]
     },
     "execution_count": 61,
     "metadata": {},
     "output_type": "execute_result"
    }
   ],
   "source": [
    "# docid2index.tsv\n",
    "docid2index.to_tsv(f\"{output_dir}/{hkmi_dirname}/docid2index.tsv\")\n",
    "docid2index.to_pandas()"
   ]
  },
  {
   "cell_type": "code",
   "execution_count": 63,
   "metadata": {},
   "outputs": [
    {
     "data": {
      "text/html": [
       "<div>\n",
       "<style scoped>\n",
       "    .dataframe tbody tr th:only-of-type {\n",
       "        vertical-align: middle;\n",
       "    }\n",
       "\n",
       "    .dataframe tbody tr th {\n",
       "        vertical-align: top;\n",
       "    }\n",
       "\n",
       "    .dataframe thead th {\n",
       "        text-align: right;\n",
       "    }\n",
       "</style>\n",
       "<table border=\"1\" class=\"dataframe\">\n",
       "  <thead>\n",
       "    <tr style=\"text-align: right;\">\n",
       "      <th></th>\n",
       "      <th>query</th>\n",
       "      <th>index</th>\n",
       "      <th>docid</th>\n",
       "    </tr>\n",
       "  </thead>\n",
       "  <tbody>\n",
       "    <tr>\n",
       "      <th>0</th>\n",
       "      <td>another name for the primary visual cortex is</td>\n",
       "      <td>29-21-7-0</td>\n",
       "      <td>D2955018</td>\n",
       "    </tr>\n",
       "    <tr>\n",
       "      <th>1</th>\n",
       "      <td>the vitamin that prevents beriberi is</td>\n",
       "      <td>5-5-8-0</td>\n",
       "      <td>D508131</td>\n",
       "    </tr>\n",
       "    <tr>\n",
       "      <th>2</th>\n",
       "      <td>contextual spoken language understanding</td>\n",
       "      <td>20-6-27-6</td>\n",
       "      <td>D1350520</td>\n",
       "    </tr>\n",
       "    <tr>\n",
       "      <th>3</th>\n",
       "      <td>dosimetry medical definition</td>\n",
       "      <td>18-2-21-6</td>\n",
       "      <td>D304123</td>\n",
       "    </tr>\n",
       "    <tr>\n",
       "      <th>4</th>\n",
       "      <td>what color is royal</td>\n",
       "      <td>28-6-9-15</td>\n",
       "      <td>D1450821</td>\n",
       "    </tr>\n",
       "    <tr>\n",
       "      <th>...</th>\n",
       "      <td>...</td>\n",
       "      <td>...</td>\n",
       "      <td>...</td>\n",
       "    </tr>\n",
       "    <tr>\n",
       "      <th>183942</th>\n",
       "      <td>why did scientists suspect that the moon coole...</td>\n",
       "      <td>25-9-0-5</td>\n",
       "      <td>D2781869</td>\n",
       "    </tr>\n",
       "    <tr>\n",
       "      <th>183943</th>\n",
       "      <td>why did rosa parks protest</td>\n",
       "      <td>15-10-25-2</td>\n",
       "      <td>D2008201</td>\n",
       "    </tr>\n",
       "    <tr>\n",
       "      <th>183944</th>\n",
       "      <td>amex india customer care number</td>\n",
       "      <td>17-14-26-3</td>\n",
       "      <td>D630512</td>\n",
       "    </tr>\n",
       "    <tr>\n",
       "      <th>183945</th>\n",
       "      <td>_________ justice is designed to repair the ha...</td>\n",
       "      <td>18-18-8-1</td>\n",
       "      <td>D59235</td>\n",
       "    </tr>\n",
       "    <tr>\n",
       "      <th>183946</th>\n",
       "      <td>)what was the immediate impact of the success ...</td>\n",
       "      <td>8-16-15-2</td>\n",
       "      <td>D778597</td>\n",
       "    </tr>\n",
       "  </tbody>\n",
       "</table>\n",
       "<p>183947 rows × 3 columns</p>\n",
       "</div>"
      ],
      "text/plain": [
       "                                                    query       index  \\\n",
       "0           another name for the primary visual cortex is   29-21-7-0   \n",
       "1                   the vitamin that prevents beriberi is     5-5-8-0   \n",
       "2                contextual spoken language understanding   20-6-27-6   \n",
       "3                            dosimetry medical definition   18-2-21-6   \n",
       "4                                     what color is royal   28-6-9-15   \n",
       "...                                                   ...         ...   \n",
       "183942  why did scientists suspect that the moon coole...    25-9-0-5   \n",
       "183943                         why did rosa parks protest  15-10-25-2   \n",
       "183944                    amex india customer care number  17-14-26-3   \n",
       "183945  _________ justice is designed to repair the ha...   18-18-8-1   \n",
       "183946  )what was the immediate impact of the success ...   8-16-15-2   \n",
       "\n",
       "           docid  \n",
       "0       D2955018  \n",
       "1        D508131  \n",
       "2       D1350520  \n",
       "3        D304123  \n",
       "4       D1450821  \n",
       "...          ...  \n",
       "183942  D2781869  \n",
       "183943  D2008201  \n",
       "183944   D630512  \n",
       "183945    D59235  \n",
       "183946   D778597  \n",
       "\n",
       "[183947 rows x 3 columns]"
      ]
     },
     "execution_count": 63,
     "metadata": {},
     "output_type": "execute_result"
    }
   ],
   "source": [
    "# realq_train.tsv\n",
    "if 'train' not in globals():\n",
    "    train = pd.read_csv(f\"{raw_dir}/train.tsv\", usecols=[\"docid\", \"query\"], sep=\"\\t\")\n",
    "docids = train['docid']\n",
    "indexes = docids.apply(docid2index.get_index)\n",
    "\n",
    "file = DocumentRetrievalTrainingFile(\n",
    "    queries=train[\"query\"],\n",
    "    docids=docids,\n",
    "    indexes=indexes.apply(intarray_to_string),\n",
    ")\n",
    "file.to_tsv(f\"{output_dir}/{hkmi_dirname}/realq_train.tsv\")\n",
    "file.to_pandas()"
   ]
  },
  {
   "cell_type": "code",
   "execution_count": 64,
   "metadata": {},
   "outputs": [
    {
     "data": {
      "text/html": [
       "<div>\n",
       "<style scoped>\n",
       "    .dataframe tbody tr th:only-of-type {\n",
       "        vertical-align: middle;\n",
       "    }\n",
       "\n",
       "    .dataframe tbody tr th {\n",
       "        vertical-align: top;\n",
       "    }\n",
       "\n",
       "    .dataframe thead th {\n",
       "        text-align: right;\n",
       "    }\n",
       "</style>\n",
       "<table border=\"1\" class=\"dataframe\">\n",
       "  <thead>\n",
       "    <tr style=\"text-align: right;\">\n",
       "      <th></th>\n",
       "      <th>query</th>\n",
       "      <th>docid</th>\n",
       "    </tr>\n",
       "  </thead>\n",
       "  <tbody>\n",
       "    <tr>\n",
       "      <th>0</th>\n",
       "      <td>androgen receptor define</td>\n",
       "      <td>D1650436</td>\n",
       "    </tr>\n",
       "    <tr>\n",
       "      <th>1</th>\n",
       "      <td>3/5 of 60</td>\n",
       "      <td>D1547717</td>\n",
       "    </tr>\n",
       "    <tr>\n",
       "      <th>2</th>\n",
       "      <td>does suddenlink carry espn3</td>\n",
       "      <td>D2830290</td>\n",
       "    </tr>\n",
       "    <tr>\n",
       "      <th>3</th>\n",
       "      <td>explain what a bone scan is and what it is use...</td>\n",
       "      <td>D125453</td>\n",
       "    </tr>\n",
       "    <tr>\n",
       "      <th>4</th>\n",
       "      <td>is the louisiana sales tax 4.75</td>\n",
       "      <td>D2523421</td>\n",
       "    </tr>\n",
       "    <tr>\n",
       "      <th>...</th>\n",
       "      <td>...</td>\n",
       "      <td>...</td>\n",
       "    </tr>\n",
       "    <tr>\n",
       "      <th>2787</th>\n",
       "      <td>why do people use gypsum in soil</td>\n",
       "      <td>D977977</td>\n",
       "    </tr>\n",
       "    <tr>\n",
       "      <th>2788</th>\n",
       "      <td>why do people grind teeth in sleep</td>\n",
       "      <td>D3062847</td>\n",
       "    </tr>\n",
       "    <tr>\n",
       "      <th>2789</th>\n",
       "      <td>why do jefferson and stanton include these sim...</td>\n",
       "      <td>D2361582</td>\n",
       "    </tr>\n",
       "    <tr>\n",
       "      <th>2790</th>\n",
       "      <td>why do children get aggressive</td>\n",
       "      <td>D1073324</td>\n",
       "    </tr>\n",
       "    <tr>\n",
       "      <th>2791</th>\n",
       "      <td>why do bears hibernate</td>\n",
       "      <td>D677570</td>\n",
       "    </tr>\n",
       "  </tbody>\n",
       "</table>\n",
       "<p>2792 rows × 2 columns</p>\n",
       "</div>"
      ],
      "text/plain": [
       "                                                  query     docid\n",
       "0                              androgen receptor define  D1650436\n",
       "1                                             3/5 of 60  D1547717\n",
       "2                           does suddenlink carry espn3  D2830290\n",
       "3     explain what a bone scan is and what it is use...   D125453\n",
       "4                       is the louisiana sales tax 4.75  D2523421\n",
       "...                                                 ...       ...\n",
       "2787                   why do people use gypsum in soil   D977977\n",
       "2788                 why do people grind teeth in sleep  D3062847\n",
       "2789  why do jefferson and stanton include these sim...  D2361582\n",
       "2790                     why do children get aggressive  D1073324\n",
       "2791                             why do bears hibernate   D677570\n",
       "\n",
       "[2792 rows x 2 columns]"
      ]
     },
     "execution_count": 64,
     "metadata": {},
     "output_type": "execute_result"
    }
   ],
   "source": [
    "# realq_dev.tsv\n",
    "if 'dev' not in globals():\n",
    "    dev = pd.read_csv(f\"{raw_dir}/dev.tsv\", usecols=[\"docid\", \"query\"], sep=\"\\t\")\n",
    "docids = dev['docid']\n",
    "\n",
    "file = DocumentRetrievalInferenceFile(\n",
    "    queries=dev[\"query\"],\n",
    "    docids=docids,\n",
    ")\n",
    "file.to_tsv(f\"{output_dir}/{hkmi_dirname}/realq_dev.tsv\")\n",
    "file.to_pandas()"
   ]
  },
  {
   "cell_type": "code",
   "execution_count": 67,
   "metadata": {},
   "outputs": [
    {
     "data": {
      "text/html": [
       "<div>\n",
       "<style scoped>\n",
       "    .dataframe tbody tr th:only-of-type {\n",
       "        vertical-align: middle;\n",
       "    }\n",
       "\n",
       "    .dataframe tbody tr th {\n",
       "        vertical-align: top;\n",
       "    }\n",
       "\n",
       "    .dataframe thead th {\n",
       "        text-align: right;\n",
       "    }\n",
       "</style>\n",
       "<table border=\"1\" class=\"dataframe\">\n",
       "  <thead>\n",
       "    <tr style=\"text-align: right;\">\n",
       "      <th></th>\n",
       "      <th>query</th>\n",
       "      <th>index</th>\n",
       "      <th>docid</th>\n",
       "    </tr>\n",
       "  </thead>\n",
       "  <tbody>\n",
       "    <tr>\n",
       "      <th>0</th>\n",
       "      <td>Dogo Argentino Dogo Argentino Miscellaneous Th...</td>\n",
       "      <td>28-14-16-0</td>\n",
       "      <td>D3233725</td>\n",
       "    </tr>\n",
       "    <tr>\n",
       "      <th>1</th>\n",
       "      <td>How to Kill Weeds Without Killing Plants Weeds...</td>\n",
       "      <td>23-25-1-0</td>\n",
       "      <td>D1885729</td>\n",
       "    </tr>\n",
       "    <tr>\n",
       "      <th>2</th>\n",
       "      <td>How to Learn Martial Arts \"Pressure Points\" Ed...</td>\n",
       "      <td>27-20-14-0</td>\n",
       "      <td>D15500</td>\n",
       "    </tr>\n",
       "    <tr>\n",
       "      <th>3</th>\n",
       "      <td>TMG Trimethylglycine Swanson Ultra TMG Trimeth...</td>\n",
       "      <td>28-2-23-0</td>\n",
       "      <td>D2456256</td>\n",
       "    </tr>\n",
       "    <tr>\n",
       "      <th>4</th>\n",
       "      <td>Elavil Could you or a loved one be experiencin...</td>\n",
       "      <td>1-7-22-0</td>\n",
       "      <td>D3205738</td>\n",
       "    </tr>\n",
       "    <tr>\n",
       "      <th>...</th>\n",
       "      <td>...</td>\n",
       "      <td>...</td>\n",
       "      <td>...</td>\n",
       "    </tr>\n",
       "    <tr>\n",
       "      <th>138452</th>\n",
       "      <td>Fact-checking immigration Fact-checking immigr...</td>\n",
       "      <td>25-4-12-5</td>\n",
       "      <td>D2169873</td>\n",
       "    </tr>\n",
       "    <tr>\n",
       "      <th>138453</th>\n",
       "      <td>Barium Swallow See related health topics and r...</td>\n",
       "      <td>5-20-20-1</td>\n",
       "      <td>D712256</td>\n",
       "    </tr>\n",
       "    <tr>\n",
       "      <th>138454</th>\n",
       "      <td>Best Integrated Development Environment (IDE) ...</td>\n",
       "      <td>4-17-21-1</td>\n",
       "      <td>D3221007</td>\n",
       "    </tr>\n",
       "    <tr>\n",
       "      <th>138455</th>\n",
       "      <td>Fin 310 Chapter 2 12 terms ty_hentges Fin 310 ...</td>\n",
       "      <td>12-9-10-3</td>\n",
       "      <td>D3112790</td>\n",
       "    </tr>\n",
       "    <tr>\n",
       "      <th>138456</th>\n",
       "      <td>The driving distance from Ancona, Italy to Rom...</td>\n",
       "      <td>17-13-12-12</td>\n",
       "      <td>D2803363</td>\n",
       "    </tr>\n",
       "  </tbody>\n",
       "</table>\n",
       "<p>138457 rows × 3 columns</p>\n",
       "</div>"
      ],
      "text/plain": [
       "                                                    query        index  \\\n",
       "0       Dogo Argentino Dogo Argentino Miscellaneous Th...   28-14-16-0   \n",
       "1       How to Kill Weeds Without Killing Plants Weeds...    23-25-1-0   \n",
       "2       How to Learn Martial Arts \"Pressure Points\" Ed...   27-20-14-0   \n",
       "3       TMG Trimethylglycine Swanson Ultra TMG Trimeth...    28-2-23-0   \n",
       "4       Elavil Could you or a loved one be experiencin...     1-7-22-0   \n",
       "...                                                   ...          ...   \n",
       "138452  Fact-checking immigration Fact-checking immigr...    25-4-12-5   \n",
       "138453  Barium Swallow See related health topics and r...    5-20-20-1   \n",
       "138454  Best Integrated Development Environment (IDE) ...    4-17-21-1   \n",
       "138455  Fin 310 Chapter 2 12 terms ty_hentges Fin 310 ...    12-9-10-3   \n",
       "138456  The driving distance from Ancona, Italy to Rom...  17-13-12-12   \n",
       "\n",
       "           docid  \n",
       "0       D3233725  \n",
       "1       D1885729  \n",
       "2         D15500  \n",
       "3       D2456256  \n",
       "4       D3205738  \n",
       "...          ...  \n",
       "138452  D2169873  \n",
       "138453   D712256  \n",
       "138454  D3221007  \n",
       "138455  D3112790  \n",
       "138456  D2803363  \n",
       "\n",
       "[138457 rows x 3 columns]"
      ]
     },
     "execution_count": 67,
     "metadata": {},
     "output_type": "execute_result"
    }
   ],
   "source": [
    "# title_abs.tsv\n",
    "title_abs = docs[\"doc\"].apply(lambda doc: ' '.join(doc.split()[:64]))\n",
    "docids = docs[\"docid\"]\n",
    "indexes = docids.apply(docid2index.get_index)\n",
    "\n",
    "file = DocumentRetrievalTrainingFile(\n",
    "    queries=title_abs,\n",
    "    docids=docids,\n",
    "    indexes=indexes.apply(intarray_to_string),\n",
    ")\n",
    "file.to_tsv(f\"{output_dir}/{hkmi_dirname}/title_abs.tsv\")\n",
    "file.to_pandas()"
   ]
  },
  {
   "cell_type": "code",
   "execution_count": 68,
   "metadata": {},
   "outputs": [
    {
     "data": {
      "text/html": [
       "<div>\n",
       "<style scoped>\n",
       "    .dataframe tbody tr th:only-of-type {\n",
       "        vertical-align: middle;\n",
       "    }\n",
       "\n",
       "    .dataframe tbody tr th {\n",
       "        vertical-align: top;\n",
       "    }\n",
       "\n",
       "    .dataframe thead th {\n",
       "        text-align: right;\n",
       "    }\n",
       "</style>\n",
       "<table border=\"1\" class=\"dataframe\">\n",
       "  <thead>\n",
       "    <tr style=\"text-align: right;\">\n",
       "      <th></th>\n",
       "      <th>query</th>\n",
       "      <th>index</th>\n",
       "      <th>docid</th>\n",
       "    </tr>\n",
       "  </thead>\n",
       "  <tbody>\n",
       "    <tr>\n",
       "      <th>0</th>\n",
       "      <td>what is the color of my dogo rancho</td>\n",
       "      <td>28-14-16-0</td>\n",
       "      <td>D3233725</td>\n",
       "    </tr>\n",
       "    <tr>\n",
       "      <th>1</th>\n",
       "      <td>what is the breed name for a argentino mastiff</td>\n",
       "      <td>28-14-16-0</td>\n",
       "      <td>D3233725</td>\n",
       "    </tr>\n",
       "    <tr>\n",
       "      <th>2</th>\n",
       "      <td>what is the breed of dogo argentino</td>\n",
       "      <td>28-14-16-0</td>\n",
       "      <td>D3233725</td>\n",
       "    </tr>\n",
       "    <tr>\n",
       "      <th>3</th>\n",
       "      <td>what is the length of a dogo argentino?</td>\n",
       "      <td>28-14-16-0</td>\n",
       "      <td>D3233725</td>\n",
       "    </tr>\n",
       "    <tr>\n",
       "      <th>4</th>\n",
       "      <td>what type of dogo is the argentino doodle</td>\n",
       "      <td>28-14-16-0</td>\n",
       "      <td>D3233725</td>\n",
       "    </tr>\n",
       "    <tr>\n",
       "      <th>...</th>\n",
       "      <td>...</td>\n",
       "      <td>...</td>\n",
       "      <td>...</td>\n",
       "    </tr>\n",
       "    <tr>\n",
       "      <th>692280</th>\n",
       "      <td>distance between rome and ancona italy</td>\n",
       "      <td>17-13-12-12</td>\n",
       "      <td>D2803363</td>\n",
       "    </tr>\n",
       "    <tr>\n",
       "      <th>692281</th>\n",
       "      <td>distance from ancona to rome italy</td>\n",
       "      <td>17-13-12-12</td>\n",
       "      <td>D2803363</td>\n",
       "    </tr>\n",
       "    <tr>\n",
       "      <th>692282</th>\n",
       "      <td>distance rome italy to ancona</td>\n",
       "      <td>17-13-12-12</td>\n",
       "      <td>D2803363</td>\n",
       "    </tr>\n",
       "    <tr>\n",
       "      <th>692283</th>\n",
       "      <td>how far is italy from ancona</td>\n",
       "      <td>17-13-12-12</td>\n",
       "      <td>D2803363</td>\n",
       "    </tr>\n",
       "    <tr>\n",
       "      <th>692284</th>\n",
       "      <td>how far is ancona from rome</td>\n",
       "      <td>17-13-12-12</td>\n",
       "      <td>D2803363</td>\n",
       "    </tr>\n",
       "  </tbody>\n",
       "</table>\n",
       "<p>692285 rows × 3 columns</p>\n",
       "</div>"
      ],
      "text/plain": [
       "                                                 query        index     docid\n",
       "0                  what is the color of my dogo rancho   28-14-16-0  D3233725\n",
       "1       what is the breed name for a argentino mastiff   28-14-16-0  D3233725\n",
       "2                  what is the breed of dogo argentino   28-14-16-0  D3233725\n",
       "3              what is the length of a dogo argentino?   28-14-16-0  D3233725\n",
       "4            what type of dogo is the argentino doodle   28-14-16-0  D3233725\n",
       "...                                                ...          ...       ...\n",
       "692280          distance between rome and ancona italy  17-13-12-12  D2803363\n",
       "692281              distance from ancona to rome italy  17-13-12-12  D2803363\n",
       "692282                   distance rome italy to ancona  17-13-12-12  D2803363\n",
       "692283                    how far is italy from ancona  17-13-12-12  D2803363\n",
       "692284                     how far is ancona from rome  17-13-12-12  D2803363\n",
       "\n",
       "[692285 rows x 3 columns]"
      ]
     },
     "execution_count": 68,
     "metadata": {},
     "output_type": "execute_result"
    }
   ],
   "source": [
    "# genq.tsv\n",
    "genq = pd.read_csv(f\"{cache_dir}/{genq_model_identifier}/genq.tsv\", usecols=[\"docid\", \"query\"], sep=\"\\t\")\n",
    "docids = genq[\"docid\"]\n",
    "indexes = docids.apply(docid2index.get_index)\n",
    "\n",
    "file = DocumentRetrievalTrainingFile(\n",
    "    queries=genq[\"query\"],\n",
    "    docids=docids,\n",
    "    indexes=indexes.apply(intarray_to_string),\n",
    ")\n",
    "file.to_tsv(f\"{output_dir}/{hkmi_dirname}/genq.tsv\")\n",
    "file.to_pandas()"
   ]
  },
  {
   "cell_type": "code",
   "execution_count": 69,
   "metadata": {},
   "outputs": [
    {
     "data": {
      "text/html": [
       "<div>\n",
       "<style scoped>\n",
       "    .dataframe tbody tr th:only-of-type {\n",
       "        vertical-align: middle;\n",
       "    }\n",
       "\n",
       "    .dataframe tbody tr th {\n",
       "        vertical-align: top;\n",
       "    }\n",
       "\n",
       "    .dataframe thead th {\n",
       "        text-align: right;\n",
       "    }\n",
       "</style>\n",
       "<table border=\"1\" class=\"dataframe\">\n",
       "  <thead>\n",
       "    <tr style=\"text-align: right;\">\n",
       "      <th></th>\n",
       "      <th>query</th>\n",
       "      <th>index</th>\n",
       "      <th>docid</th>\n",
       "    </tr>\n",
       "  </thead>\n",
       "  <tbody>\n",
       "    <tr>\n",
       "      <th>0</th>\n",
       "      <td>Dogos require vigorous exercise to stay at the...</td>\n",
       "      <td>28-14-16-0</td>\n",
       "      <td>D3233725</td>\n",
       "    </tr>\n",
       "    <tr>\n",
       "      <th>1</th>\n",
       "      <td>its physical virtues turn it into a real athle...</td>\n",
       "      <td>28-14-16-0</td>\n",
       "      <td>D3233725</td>\n",
       "    </tr>\n",
       "    <tr>\n",
       "      <th>2</th>\n",
       "      <td>pounds Life Expectancy: 9-15 years Barking Lev...</td>\n",
       "      <td>28-14-16-0</td>\n",
       "      <td>D3233725</td>\n",
       "    </tr>\n",
       "    <tr>\n",
       "      <th>3</th>\n",
       "      <td>&amp; Feeding Good nutrition for Dogo Argentinos i...</td>\n",
       "      <td>28-14-16-0</td>\n",
       "      <td>D3233725</td>\n",
       "    </tr>\n",
       "    <tr>\n",
       "      <th>4</th>\n",
       "      <td>Expectancy: 9-15 years Barking Level: Barks Wh...</td>\n",
       "      <td>28-14-16-0</td>\n",
       "      <td>D3233725</td>\n",
       "    </tr>\n",
       "    <tr>\n",
       "      <th>...</th>\n",
       "      <td>...</td>\n",
       "      <td>...</td>\n",
       "      <td>...</td>\n",
       "    </tr>\n",
       "    <tr>\n",
       "      <th>1391428</th>\n",
       "      <td>driving distance for a different route. If you...</td>\n",
       "      <td>17-13-12-12</td>\n",
       "      <td>D2803363</td>\n",
       "    </tr>\n",
       "    <tr>\n",
       "      <th>1391429</th>\n",
       "      <td>another possible route, you can try Google Map...</td>\n",
       "      <td>17-13-12-12</td>\n",
       "      <td>D2803363</td>\n",
       "    </tr>\n",
       "    <tr>\n",
       "      <th>1391430</th>\n",
       "      <td>from Ancona, Italy to Rome, Italy is:193 miles...</td>\n",
       "      <td>17-13-12-12</td>\n",
       "      <td>D2803363</td>\n",
       "    </tr>\n",
       "    <tr>\n",
       "      <th>1391431</th>\n",
       "      <td>Rome road trip Map of driving directions from ...</td>\n",
       "      <td>17-13-12-12</td>\n",
       "      <td>D2803363</td>\n",
       "    </tr>\n",
       "    <tr>\n",
       "      <th>1391432</th>\n",
       "      <td>time from Ancona, Italy to Rome, Italycost of ...</td>\n",
       "      <td>17-13-12-12</td>\n",
       "      <td>D2803363</td>\n",
       "    </tr>\n",
       "  </tbody>\n",
       "</table>\n",
       "<p>1391433 rows × 3 columns</p>\n",
       "</div>"
      ],
      "text/plain": [
       "                                                     query        index  \\\n",
       "0        Dogos require vigorous exercise to stay at the...   28-14-16-0   \n",
       "1        its physical virtues turn it into a real athle...   28-14-16-0   \n",
       "2        pounds Life Expectancy: 9-15 years Barking Lev...   28-14-16-0   \n",
       "3        & Feeding Good nutrition for Dogo Argentinos i...   28-14-16-0   \n",
       "4        Expectancy: 9-15 years Barking Level: Barks Wh...   28-14-16-0   \n",
       "...                                                    ...          ...   \n",
       "1391428  driving distance for a different route. If you...  17-13-12-12   \n",
       "1391429  another possible route, you can try Google Map...  17-13-12-12   \n",
       "1391430  from Ancona, Italy to Rome, Italy is:193 miles...  17-13-12-12   \n",
       "1391431  Rome road trip Map of driving directions from ...  17-13-12-12   \n",
       "1391432  time from Ancona, Italy to Rome, Italycost of ...  17-13-12-12   \n",
       "\n",
       "            docid  \n",
       "0        D3233725  \n",
       "1        D3233725  \n",
       "2        D3233725  \n",
       "3        D3233725  \n",
       "4        D3233725  \n",
       "...           ...  \n",
       "1391428  D2803363  \n",
       "1391429  D2803363  \n",
       "1391430  D2803363  \n",
       "1391431  D2803363  \n",
       "1391432  D2803363  \n",
       "\n",
       "[1391433 rows x 3 columns]"
      ]
     },
     "execution_count": 69,
     "metadata": {},
     "output_type": "execute_result"
    }
   ],
   "source": [
    "# docseg.tsv\n",
    "docseg = pd.read_csv(f\"{cache_dir}/docseg.tsv\", usecols=[\"docid\", \"query\"], sep=\"\\t\")\n",
    "docids = docseg[\"docid\"]\n",
    "indexes = docids.apply(docid2index.get_index)\n",
    "\n",
    "file = DocumentRetrievalTrainingFile(\n",
    "    queries=docseg[\"query\"],\n",
    "    docids=docids,\n",
    "    indexes=indexes.apply(intarray_to_string),\n",
    ")\n",
    "file.to_tsv(f\"{output_dir}/{hkmi_dirname}/docseg.tsv\")\n",
    "file.to_pandas()"
   ]
  },
  {
   "cell_type": "code",
   "execution_count": null,
   "metadata": {},
   "outputs": [],
   "source": []
  },
  {
   "cell_type": "code",
   "execution_count": null,
   "metadata": {},
   "outputs": [],
   "source": []
  },
  {
   "cell_type": "markdown",
   "metadata": {},
   "source": [
    "# 3. Bottleneck-Minimal Indexing (BMI)"
   ]
  },
  {
   "cell_type": "markdown",
   "metadata": {},
   "source": [
    "## 3.1 Produce for every query a BERT embedding"
   ]
  },
  {
   "cell_type": "code",
   "execution_count": 4,
   "metadata": {},
   "outputs": [],
   "source": [
    "import preprocess.bert_embedding"
   ]
  },
  {
   "cell_type": "markdown",
   "metadata": {},
   "source": [
    "### 3.1.1 RealQ: real queries (training set)"
   ]
  },
  {
   "cell_type": "code",
   "execution_count": 7,
   "metadata": {},
   "outputs": [
    {
     "name": "stdout",
     "output_type": "stream",
     "text": [
      "Initializing ...\n",
      "Initializing ...\n",
      "Initializing ...\n",
      "Initializing ...\n"
     ]
    },
    {
     "name": "stderr",
     "output_type": "stream",
     "text": [
      "  0%|                                                                     | 0/183947 [00:00<?, ?it/s]/home/duxin/.pyenv/versions/3.10.11/envs/BMI/lib/python3.10/site-packages/huggingface_hub/file_download.py:1132: FutureWarning: `resume_download` is deprecated and will be removed in version 1.0.0. Downloads always resume when possible. If you want to force a new download, use `force_download=True`.\n",
      "  warnings.warn(\n",
      "/home/duxin/.pyenv/versions/3.10.11/envs/BMI/lib/python3.10/site-packages/huggingface_hub/file_download.py:1132: FutureWarning: `resume_download` is deprecated and will be removed in version 1.0.0. Downloads always resume when possible. If you want to force a new download, use `force_download=True`.\n",
      "  warnings.warn(\n",
      "/home/duxin/.pyenv/versions/3.10.11/envs/BMI/lib/python3.10/site-packages/huggingface_hub/file_download.py:1132: FutureWarning: `resume_download` is deprecated and will be removed in version 1.0.0. Downloads always resume when possible. If you want to force a new download, use `force_download=True`.\n",
      "  warnings.warn(\n",
      "/home/duxin/.pyenv/versions/3.10.11/envs/BMI/lib/python3.10/site-packages/huggingface_hub/file_download.py:1132: FutureWarning: `resume_download` is deprecated and will be removed in version 1.0.0. Downloads always resume when possible. If you want to force a new download, use `force_download=True`.\n",
      "  warnings.warn(\n"
     ]
    },
    {
     "name": "stdout",
     "output_type": "stream",
     "text": [
      "Initialization finished\n",
      "Initialization finished\n",
      "Initialization finished\n",
      "Initialization finished\n"
     ]
    },
    {
     "name": "stderr",
     "output_type": "stream",
     "text": [
      "100%|██████████████████████████████████████████████████████| 183947/183947 [00:29<00:00, 6145.55it/s]\n"
     ]
    }
   ],
   "source": [
    "args = Namespace(\n",
    "    docs_path=f\"{output_dir}/{hkmi_dirname}/realq_train.tsv\",\n",
    "    output_path=f\"{cache_dir}/{bert_model_identifier}/realq_train_emb.h5\",\n",
    "    model_path=bert_model_path,\n",
    "    max_len=512,\n",
    "    n_gpus=4,\n",
    "    text_col=\"query\",\n",
    ")\n",
    "preprocess.bert_embedding.main(args)"
   ]
  },
  {
   "cell_type": "markdown",
   "metadata": {},
   "source": [
    "### 3.1.2 GenQ: generated queries by the finetuned document-to-query model"
   ]
  },
  {
   "cell_type": "code",
   "execution_count": 8,
   "metadata": {},
   "outputs": [
    {
     "name": "stdout",
     "output_type": "stream",
     "text": [
      "Initializing ...\n",
      "Initializing ...\n",
      "Initializing ...\n",
      "Initializing ...\n"
     ]
    },
    {
     "name": "stderr",
     "output_type": "stream",
     "text": [
      "  0%|                                                                     | 0/692285 [00:00<?, ?it/s]/home/duxin/.pyenv/versions/3.10.11/envs/BMI/lib/python3.10/site-packages/huggingface_hub/file_download.py:1132: FutureWarning: `resume_download` is deprecated and will be removed in version 1.0.0. Downloads always resume when possible. If you want to force a new download, use `force_download=True`.\n",
      "  warnings.warn(\n",
      "/home/duxin/.pyenv/versions/3.10.11/envs/BMI/lib/python3.10/site-packages/huggingface_hub/file_download.py:1132: FutureWarning: `resume_download` is deprecated and will be removed in version 1.0.0. Downloads always resume when possible. If you want to force a new download, use `force_download=True`.\n",
      "  warnings.warn(\n",
      "/home/duxin/.pyenv/versions/3.10.11/envs/BMI/lib/python3.10/site-packages/huggingface_hub/file_download.py:1132: FutureWarning: `resume_download` is deprecated and will be removed in version 1.0.0. Downloads always resume when possible. If you want to force a new download, use `force_download=True`.\n",
      "  warnings.warn(\n",
      "/home/duxin/.pyenv/versions/3.10.11/envs/BMI/lib/python3.10/site-packages/huggingface_hub/file_download.py:1132: FutureWarning: `resume_download` is deprecated and will be removed in version 1.0.0. Downloads always resume when possible. If you want to force a new download, use `force_download=True`.\n",
      "  warnings.warn(\n"
     ]
    },
    {
     "name": "stdout",
     "output_type": "stream",
     "text": [
      "Initialization finished\n",
      "Initialization finished\n",
      "Initialization finished\n",
      "Initialization finished\n"
     ]
    },
    {
     "name": "stderr",
     "output_type": "stream",
     "text": [
      "100%|██████████████████████████████████████████████████████| 692285/692285 [01:42<00:00, 6759.89it/s]\n"
     ]
    }
   ],
   "source": [
    "args = Namespace(\n",
    "    docs_path=f\"{cache_dir}/{genq_model_identifier}/genq.tsv\",\n",
    "    output_path=f\"{cache_dir}/{genq_model_identifier}.{bert_model_identifier}/genq_emb.h5\",\n",
    "    model_path=bert_model_path,\n",
    "    max_len=512,\n",
    "    n_gpus=4,\n",
    "    text_col=\"query\",\n",
    ")\n",
    "preprocess.bert_embedding.main(args)"
   ]
  },
  {
   "cell_type": "markdown",
   "metadata": {},
   "source": [
    "### 3.1.3 DocSeg: using document segments as queries "
   ]
  },
  {
   "cell_type": "code",
   "execution_count": 9,
   "metadata": {},
   "outputs": [
    {
     "name": "stdout",
     "output_type": "stream",
     "text": [
      "Initializing ...\n",
      "Initializing ...\n",
      "Initializing ...\n",
      "Initializing ...\n"
     ]
    },
    {
     "name": "stderr",
     "output_type": "stream",
     "text": [
      "/home/duxin/.pyenv/versions/3.10.11/envs/BMI/lib/python3.10/site-packages/huggingface_hub/file_download.py:1132: FutureWarning: `resume_download` is deprecated and will be removed in version 1.0.0. Downloads always resume when possible. If you want to force a new download, use `force_download=True`.\n",
      "  warnings.warn(\n",
      "/home/duxin/.pyenv/versions/3.10.11/envs/BMI/lib/python3.10/site-packages/huggingface_hub/file_download.py:1132: FutureWarning: `resume_download` is deprecated and will be removed in version 1.0.0. Downloads always resume when possible. If you want to force a new download, use `force_download=True`.\n",
      "  warnings.warn(\n",
      "/home/duxin/.pyenv/versions/3.10.11/envs/BMI/lib/python3.10/site-packages/huggingface_hub/file_download.py:1132: FutureWarning: `resume_download` is deprecated and will be removed in version 1.0.0. Downloads always resume when possible. If you want to force a new download, use `force_download=True`.\n",
      "  warnings.warn(\n",
      "  0%|                                                                    | 0/1391433 [00:00<?, ?it/s]/home/duxin/.pyenv/versions/3.10.11/envs/BMI/lib/python3.10/site-packages/huggingface_hub/file_download.py:1132: FutureWarning: `resume_download` is deprecated and will be removed in version 1.0.0. Downloads always resume when possible. If you want to force a new download, use `force_download=True`.\n",
      "  warnings.warn(\n"
     ]
    },
    {
     "name": "stdout",
     "output_type": "stream",
     "text": [
      "Initialization finished\n",
      "Initialization finished\n"
     ]
    },
    {
     "name": "stderr",
     "output_type": "stream",
     "text": [
      "  0%|                                                       | 180/1391433 [00:05<11:54:49, 32.44it/s]"
     ]
    },
    {
     "name": "stdout",
     "output_type": "stream",
     "text": [
      "Initialization finished\n",
      "Initialization finished\n"
     ]
    },
    {
     "name": "stderr",
     "output_type": "stream",
     "text": [
      "100%|████████████████████████████████████████████████████| 1391433/1391433 [05:22<00:00, 4315.91it/s]\n"
     ]
    }
   ],
   "source": [
    "args = Namespace(\n",
    "    docs_path=f\"{output_dir}/{hkmi_dirname}/docseg.tsv\",\n",
    "    output_path=f\"{cache_dir}/{bert_model_identifier}/docseg_emb.h5\",\n",
    "    model_path=bert_model_path,\n",
    "    max_len=512,\n",
    "    n_gpus=4,\n",
    "    text_col=\"query\",\n",
    ")\n",
    "preprocess.bert_embedding.main(args)"
   ]
  },
  {
   "cell_type": "markdown",
   "metadata": {},
   "source": [
    "## 3.2 Apply K-means clustering on documents"
   ]
  },
  {
   "cell_type": "markdown",
   "metadata": {},
   "source": [
    "### 3.2.1 Calculate centroid vector for every document"
   ]
  },
  {
   "cell_type": "code",
   "execution_count": 10,
   "metadata": {},
   "outputs": [],
   "source": [
    "from BMI.io import IndexedEmbeddings\n",
    "\n",
    "X, ids = [], []\n",
    "for path in [\n",
    "    f\"{cache_dir}/{bert_model_identifier}/realq_train_emb.h5\",\n",
    "    f\"{cache_dir}/{genq_model_identifier}.{bert_model_identifier}/genq_emb.h5\",\n",
    "    f\"{cache_dir}/{bert_model_identifier}/docseg_emb.h5\",\n",
    "]:\n",
    "    embeddings = IndexedEmbeddings.from_h5(path)\n",
    "    X.append(embeddings.embs)\n",
    "    ids.append(embeddings.ids)\n",
    "X = np.concatenate(X, axis=0)\n",
    "ids = np.concatenate(ids, axis=0)"
   ]
  },
  {
   "cell_type": "code",
   "execution_count": 11,
   "metadata": {},
   "outputs": [
    {
     "name": "stderr",
     "output_type": "stream",
     "text": [
      "/tmp/ipykernel_2536595/1050276897.py:2: DeprecationWarning: DataFrameGroupBy.apply operated on the grouping columns. This behavior is deprecated, and in a future version of pandas the grouping columns will be excluded from the operation. Either pass `include_groups=False` to exclude the groupings or explicitly select the grouping columns after groupby to silence this warning.\n",
      "  centroids = embs.groupby(\"docid\").apply(lambda slice: np.stack(slice['emb'].values).mean(0))\n"
     ]
    }
   ],
   "source": [
    "embs = pd.DataFrame({'emb': list(X), 'docid': ids})\n",
    "centroids = embs.groupby(\"docid\").apply(lambda slice: np.stack(slice['emb'].values).mean(0))"
   ]
  },
  {
   "cell_type": "code",
   "execution_count": 12,
   "metadata": {},
   "outputs": [
    {
     "data": {
      "text/plain": [
       "docid\n",
       "D1000111    [-0.67136544, 0.12668706, -0.15803394, -0.4214...\n",
       "D1000120    [-0.11027141, -0.0127727715, 0.05979115, 0.062...\n",
       "D1000128    [-0.3655967, -0.004500894, -0.17365022, -0.298...\n",
       "D1000147    [-0.7446443, 0.051425174, 0.006697178, 0.07320...\n",
       "D1000171    [-0.046932623, 0.051572345, 0.0068646716, -0.1...\n",
       "                                  ...                        \n",
       "D999957     [-0.4969293, -0.28059012, 0.23285414, -0.10521...\n",
       "D999968     [-0.24978884, -0.1374097, -0.29497665, -0.0315...\n",
       "D999978     [-0.4752474, -0.3227341, 0.37801948, 0.1673784...\n",
       "D999990     [-0.30692142, -0.0790581, 0.25198063, -0.08345...\n",
       "D999994     [-0.31444538, -0.12734632, -0.49284962, -0.184...\n",
       "Length: 138457, dtype: object"
      ]
     },
     "execution_count": 12,
     "metadata": {},
     "output_type": "execute_result"
    }
   ],
   "source": [
    "centroids"
   ]
  },
  {
   "cell_type": "code",
   "execution_count": 15,
   "metadata": {},
   "outputs": [],
   "source": [
    "path = f\"{cache_dir}/{genq_model_identifier}.{bert_model_identifier}/doc_emb.centroid.realq_genq_docseg.h5\"\n",
    "embeddings = IndexedEmbeddings(ids=centroids.index.tolist(), embs=np.stack(centroids.values, dtype=np.float32))\n",
    "embeddings.to_h5(path)"
   ]
  },
  {
   "cell_type": "markdown",
   "metadata": {},
   "source": [
    "### 3.2.2 Run k-means"
   ]
  },
  {
   "cell_type": "code",
   "execution_count": 16,
   "metadata": {},
   "outputs": [
    {
     "name": "stdout",
     "output_type": "stream",
     "text": [
      "(138457, 768)\n",
      "Wed May 22 00:32:43 2024 Start First Clustering\n",
      "(138457,)\n",
      "105\n",
      "Wed May 22 00:32:44 2024 Start Recursively Clustering...\n"
     ]
    },
    {
     "name": "stderr",
     "output_type": "stream",
     "text": [
      "100%|████████████████████████████████████████████████████████████████| 30/30 [00:18<00:00,  1.65it/s]\n"
     ]
    }
   ],
   "source": [
    "import preprocess.kmeans\n",
    "import importlib\n",
    "importlib.reload(preprocess.kmeans)\n",
    "\n",
    "args = Namespace(\n",
    "    embedding_path=f\"{cache_dir}/{genq_model_identifier}.{bert_model_identifier}/doc_emb.centroid.realq_genq_docseg.h5\",\n",
    "    output_path=f\"{cache_dir}/{genq_model_identifier}.{bert_model_identifier}/docid2index.BMI.realq_genq_docseg.tsv\",\n",
    "    v_dim=768,\n",
    "    k=30,\n",
    "    c=30,\n",
    "    seed=7,\n",
    "    n_init=1,   # can be increased to 10/100 to enhance quality at the cost of running time\n",
    "    tol=1e-6,\n",
    ")\n",
    "preprocess.kmeans.main(args)"
   ]
  },
  {
   "cell_type": "markdown",
   "metadata": {},
   "source": [
    "## 3.3 Compiling training data for training retrieval model"
   ]
  },
  {
   "cell_type": "markdown",
   "metadata": {},
   "source": [
    "- training set\n",
    "\n",
    "A training sample should have three entries: *query, index, docid*\n",
    "\n",
    "| File Name | Description |\n",
    "| --- | --- |\n",
    "| realq_train.tsv | real queries (ground truth) |\n",
    "| genq.tsv  | generated queries from documents |\n",
    "| title_abs.tsv | concatenation of document title and abstract as query |\n",
    "| docseg.tsv | document segments as queries |\n",
    "\n",
    "- dev (evaluation) set\n",
    "\n",
    "A validation sample should have two entries: *query, docid*\n",
    "\n",
    "| File Name | Description |\n",
    "| --- | --- |\n",
    "| realq_dev.tsv | real queries (ground truth) |\n",
    "\n",
    "- supporting files\n",
    "\n",
    "| File Name | Description |\n",
    "| --- | --- |\n",
    "| docid2index.tsv | mapping from docid to index, used for evaluation |"
   ]
  },
  {
   "cell_type": "code",
   "execution_count": 18,
   "metadata": {},
   "outputs": [],
   "source": [
    "import BMI.io\n",
    "from BMI.io import (\n",
    "    StringIndexing,\n",
    "    DocumentRetrievalTrainingFile,\n",
    "    DocumentRetrievalInferenceFile,\n",
    "    intarray_to_string,\n",
    ")"
   ]
  },
  {
   "cell_type": "code",
   "execution_count": 19,
   "metadata": {},
   "outputs": [],
   "source": [
    "bmi_dirname = f\"BMI.{bert_model_identifier}.{genq_model_identifier}.realq_genq_docseg\"\n",
    "os.makedirs(f\"{output_dir}/{bmi_dirname}\", exist_ok=True)"
   ]
  },
  {
   "cell_type": "code",
   "execution_count": 29,
   "metadata": {},
   "outputs": [],
   "source": [
    "docs = pd.read_csv(f\"{raw_dir}/docs.tsv\", sep=\"\\t\", na_filter=False)\n",
    "docid2index = StringIndexing.from_tsv(f\"{cache_dir}/{genq_model_identifier}.{bert_model_identifier}/docid2index.BMI.realq_genq_docseg.tsv\")"
   ]
  },
  {
   "cell_type": "code",
   "execution_count": 30,
   "metadata": {},
   "outputs": [
    {
     "data": {
      "text/html": [
       "<div>\n",
       "<style scoped>\n",
       "    .dataframe tbody tr th:only-of-type {\n",
       "        vertical-align: middle;\n",
       "    }\n",
       "\n",
       "    .dataframe tbody tr th {\n",
       "        vertical-align: top;\n",
       "    }\n",
       "\n",
       "    .dataframe thead th {\n",
       "        text-align: right;\n",
       "    }\n",
       "</style>\n",
       "<table border=\"1\" class=\"dataframe\">\n",
       "  <thead>\n",
       "    <tr style=\"text-align: right;\">\n",
       "      <th></th>\n",
       "      <th>docid</th>\n",
       "      <th>index</th>\n",
       "    </tr>\n",
       "  </thead>\n",
       "  <tbody>\n",
       "    <tr>\n",
       "      <th>0</th>\n",
       "      <td>D1000111</td>\n",
       "      <td>(27, 7, 3, 0)</td>\n",
       "    </tr>\n",
       "    <tr>\n",
       "      <th>1</th>\n",
       "      <td>D1000120</td>\n",
       "      <td>(19, 27, 29, 0)</td>\n",
       "    </tr>\n",
       "    <tr>\n",
       "      <th>2</th>\n",
       "      <td>D1000128</td>\n",
       "      <td>(20, 7, 9, 5, 0)</td>\n",
       "    </tr>\n",
       "    <tr>\n",
       "      <th>3</th>\n",
       "      <td>D1000147</td>\n",
       "      <td>(13, 10, 9, 0)</td>\n",
       "    </tr>\n",
       "    <tr>\n",
       "      <th>4</th>\n",
       "      <td>D1000171</td>\n",
       "      <td>(26, 0, 16, 0)</td>\n",
       "    </tr>\n",
       "    <tr>\n",
       "      <th>...</th>\n",
       "      <td>...</td>\n",
       "      <td>...</td>\n",
       "    </tr>\n",
       "    <tr>\n",
       "      <th>138452</th>\n",
       "      <td>D999957</td>\n",
       "      <td>(17, 23, 9, 10)</td>\n",
       "    </tr>\n",
       "    <tr>\n",
       "      <th>138453</th>\n",
       "      <td>D999968</td>\n",
       "      <td>(7, 6, 15, 13)</td>\n",
       "    </tr>\n",
       "    <tr>\n",
       "      <th>138454</th>\n",
       "      <td>D999978</td>\n",
       "      <td>(3, 25, 15, 12)</td>\n",
       "    </tr>\n",
       "    <tr>\n",
       "      <th>138455</th>\n",
       "      <td>D999990</td>\n",
       "      <td>(2, 10, 8, 4)</td>\n",
       "    </tr>\n",
       "    <tr>\n",
       "      <th>138456</th>\n",
       "      <td>D999994</td>\n",
       "      <td>(12, 8, 28, 8)</td>\n",
       "    </tr>\n",
       "  </tbody>\n",
       "</table>\n",
       "<p>138457 rows × 2 columns</p>\n",
       "</div>"
      ],
      "text/plain": [
       "           docid             index\n",
       "0       D1000111     (27, 7, 3, 0)\n",
       "1       D1000120   (19, 27, 29, 0)\n",
       "2       D1000128  (20, 7, 9, 5, 0)\n",
       "3       D1000147    (13, 10, 9, 0)\n",
       "4       D1000171    (26, 0, 16, 0)\n",
       "...          ...               ...\n",
       "138452   D999957   (17, 23, 9, 10)\n",
       "138453   D999968    (7, 6, 15, 13)\n",
       "138454   D999978   (3, 25, 15, 12)\n",
       "138455   D999990     (2, 10, 8, 4)\n",
       "138456   D999994    (12, 8, 28, 8)\n",
       "\n",
       "[138457 rows x 2 columns]"
      ]
     },
     "execution_count": 30,
     "metadata": {},
     "output_type": "execute_result"
    }
   ],
   "source": [
    "# docid2index.tsv\n",
    "docid2index.to_tsv(f\"{output_dir}/{bmi_dirname}/docid2index.tsv\")\n",
    "docid2index.to_pandas()"
   ]
  },
  {
   "cell_type": "code",
   "execution_count": 31,
   "metadata": {},
   "outputs": [
    {
     "data": {
      "text/html": [
       "<div>\n",
       "<style scoped>\n",
       "    .dataframe tbody tr th:only-of-type {\n",
       "        vertical-align: middle;\n",
       "    }\n",
       "\n",
       "    .dataframe tbody tr th {\n",
       "        vertical-align: top;\n",
       "    }\n",
       "\n",
       "    .dataframe thead th {\n",
       "        text-align: right;\n",
       "    }\n",
       "</style>\n",
       "<table border=\"1\" class=\"dataframe\">\n",
       "  <thead>\n",
       "    <tr style=\"text-align: right;\">\n",
       "      <th></th>\n",
       "      <th>query</th>\n",
       "      <th>index</th>\n",
       "      <th>docid</th>\n",
       "    </tr>\n",
       "  </thead>\n",
       "  <tbody>\n",
       "    <tr>\n",
       "      <th>0</th>\n",
       "      <td>another name for the primary visual cortex is</td>\n",
       "      <td>0-2-17-3</td>\n",
       "      <td>D2955018</td>\n",
       "    </tr>\n",
       "    <tr>\n",
       "      <th>1</th>\n",
       "      <td>the vitamin that prevents beriberi is</td>\n",
       "      <td>5-6-12-12</td>\n",
       "      <td>D508131</td>\n",
       "    </tr>\n",
       "    <tr>\n",
       "      <th>2</th>\n",
       "      <td>contextual spoken language understanding</td>\n",
       "      <td>11-12-16-0</td>\n",
       "      <td>D1350520</td>\n",
       "    </tr>\n",
       "    <tr>\n",
       "      <th>3</th>\n",
       "      <td>dosimetry medical definition</td>\n",
       "      <td>25-2-14-7</td>\n",
       "      <td>D304123</td>\n",
       "    </tr>\n",
       "    <tr>\n",
       "      <th>4</th>\n",
       "      <td>what color is royal</td>\n",
       "      <td>29-4-11-3</td>\n",
       "      <td>D1450821</td>\n",
       "    </tr>\n",
       "    <tr>\n",
       "      <th>...</th>\n",
       "      <td>...</td>\n",
       "      <td>...</td>\n",
       "      <td>...</td>\n",
       "    </tr>\n",
       "    <tr>\n",
       "      <th>183942</th>\n",
       "      <td>why did scientists suspect that the moon coole...</td>\n",
       "      <td>10-12-2-4</td>\n",
       "      <td>D2781869</td>\n",
       "    </tr>\n",
       "    <tr>\n",
       "      <th>183943</th>\n",
       "      <td>why did rosa parks protest</td>\n",
       "      <td>7-16-8-1</td>\n",
       "      <td>D2008201</td>\n",
       "    </tr>\n",
       "    <tr>\n",
       "      <th>183944</th>\n",
       "      <td>amex india customer care number</td>\n",
       "      <td>3-28-0-2</td>\n",
       "      <td>D630512</td>\n",
       "    </tr>\n",
       "    <tr>\n",
       "      <th>183945</th>\n",
       "      <td>_________ justice is designed to repair the ha...</td>\n",
       "      <td>11-1-1-9</td>\n",
       "      <td>D59235</td>\n",
       "    </tr>\n",
       "    <tr>\n",
       "      <th>183946</th>\n",
       "      <td>)what was the immediate impact of the success ...</td>\n",
       "      <td>26-8-25-15</td>\n",
       "      <td>D778597</td>\n",
       "    </tr>\n",
       "  </tbody>\n",
       "</table>\n",
       "<p>183947 rows × 3 columns</p>\n",
       "</div>"
      ],
      "text/plain": [
       "                                                    query       index  \\\n",
       "0           another name for the primary visual cortex is    0-2-17-3   \n",
       "1                   the vitamin that prevents beriberi is   5-6-12-12   \n",
       "2                contextual spoken language understanding  11-12-16-0   \n",
       "3                            dosimetry medical definition   25-2-14-7   \n",
       "4                                     what color is royal   29-4-11-3   \n",
       "...                                                   ...         ...   \n",
       "183942  why did scientists suspect that the moon coole...   10-12-2-4   \n",
       "183943                         why did rosa parks protest    7-16-8-1   \n",
       "183944                    amex india customer care number    3-28-0-2   \n",
       "183945  _________ justice is designed to repair the ha...    11-1-1-9   \n",
       "183946  )what was the immediate impact of the success ...  26-8-25-15   \n",
       "\n",
       "           docid  \n",
       "0       D2955018  \n",
       "1        D508131  \n",
       "2       D1350520  \n",
       "3        D304123  \n",
       "4       D1450821  \n",
       "...          ...  \n",
       "183942  D2781869  \n",
       "183943  D2008201  \n",
       "183944   D630512  \n",
       "183945    D59235  \n",
       "183946   D778597  \n",
       "\n",
       "[183947 rows x 3 columns]"
      ]
     },
     "execution_count": 31,
     "metadata": {},
     "output_type": "execute_result"
    }
   ],
   "source": [
    "# realq_train.tsv\n",
    "if 'train' not in globals():\n",
    "    train = pd.read_csv(f\"{raw_dir}/train.tsv\", sep=\"\\t\")\n",
    "docids = train['docid']\n",
    "indexes = docids.apply(docid2index.get_index)\n",
    "\n",
    "file = DocumentRetrievalTrainingFile(\n",
    "    queries=train[\"query\"],\n",
    "    docids=docids,\n",
    "    indexes=indexes.apply(intarray_to_string),\n",
    ")\n",
    "file.to_tsv(f\"{output_dir}/{bmi_dirname}/realq_train.tsv\")\n",
    "file.to_pandas()"
   ]
  },
  {
   "cell_type": "code",
   "execution_count": 32,
   "metadata": {},
   "outputs": [
    {
     "data": {
      "text/html": [
       "<div>\n",
       "<style scoped>\n",
       "    .dataframe tbody tr th:only-of-type {\n",
       "        vertical-align: middle;\n",
       "    }\n",
       "\n",
       "    .dataframe tbody tr th {\n",
       "        vertical-align: top;\n",
       "    }\n",
       "\n",
       "    .dataframe thead th {\n",
       "        text-align: right;\n",
       "    }\n",
       "</style>\n",
       "<table border=\"1\" class=\"dataframe\">\n",
       "  <thead>\n",
       "    <tr style=\"text-align: right;\">\n",
       "      <th></th>\n",
       "      <th>query</th>\n",
       "      <th>docid</th>\n",
       "    </tr>\n",
       "  </thead>\n",
       "  <tbody>\n",
       "    <tr>\n",
       "      <th>0</th>\n",
       "      <td>androgen receptor define</td>\n",
       "      <td>D1650436</td>\n",
       "    </tr>\n",
       "    <tr>\n",
       "      <th>1</th>\n",
       "      <td>3/5 of 60</td>\n",
       "      <td>D1547717</td>\n",
       "    </tr>\n",
       "    <tr>\n",
       "      <th>2</th>\n",
       "      <td>does suddenlink carry espn3</td>\n",
       "      <td>D2830290</td>\n",
       "    </tr>\n",
       "    <tr>\n",
       "      <th>3</th>\n",
       "      <td>explain what a bone scan is and what it is use...</td>\n",
       "      <td>D125453</td>\n",
       "    </tr>\n",
       "    <tr>\n",
       "      <th>4</th>\n",
       "      <td>is the louisiana sales tax 4.75</td>\n",
       "      <td>D2523421</td>\n",
       "    </tr>\n",
       "    <tr>\n",
       "      <th>...</th>\n",
       "      <td>...</td>\n",
       "      <td>...</td>\n",
       "    </tr>\n",
       "    <tr>\n",
       "      <th>2787</th>\n",
       "      <td>why do people use gypsum in soil</td>\n",
       "      <td>D977977</td>\n",
       "    </tr>\n",
       "    <tr>\n",
       "      <th>2788</th>\n",
       "      <td>why do people grind teeth in sleep</td>\n",
       "      <td>D3062847</td>\n",
       "    </tr>\n",
       "    <tr>\n",
       "      <th>2789</th>\n",
       "      <td>why do jefferson and stanton include these sim...</td>\n",
       "      <td>D2361582</td>\n",
       "    </tr>\n",
       "    <tr>\n",
       "      <th>2790</th>\n",
       "      <td>why do children get aggressive</td>\n",
       "      <td>D1073324</td>\n",
       "    </tr>\n",
       "    <tr>\n",
       "      <th>2791</th>\n",
       "      <td>why do bears hibernate</td>\n",
       "      <td>D677570</td>\n",
       "    </tr>\n",
       "  </tbody>\n",
       "</table>\n",
       "<p>2792 rows × 2 columns</p>\n",
       "</div>"
      ],
      "text/plain": [
       "                                                  query     docid\n",
       "0                              androgen receptor define  D1650436\n",
       "1                                             3/5 of 60  D1547717\n",
       "2                           does suddenlink carry espn3  D2830290\n",
       "3     explain what a bone scan is and what it is use...   D125453\n",
       "4                       is the louisiana sales tax 4.75  D2523421\n",
       "...                                                 ...       ...\n",
       "2787                   why do people use gypsum in soil   D977977\n",
       "2788                 why do people grind teeth in sleep  D3062847\n",
       "2789  why do jefferson and stanton include these sim...  D2361582\n",
       "2790                     why do children get aggressive  D1073324\n",
       "2791                             why do bears hibernate   D677570\n",
       "\n",
       "[2792 rows x 2 columns]"
      ]
     },
     "execution_count": 32,
     "metadata": {},
     "output_type": "execute_result"
    }
   ],
   "source": [
    "# realq_dev.tsv\n",
    "if 'dev' not in globals():\n",
    "    dev = pd.read_csv(f\"{raw_dir}/dev.tsv\", sep=\"\\t\")\n",
    "docids = dev['docid']\n",
    "\n",
    "file = DocumentRetrievalInferenceFile(\n",
    "    queries=dev[\"query\"],\n",
    "    docids=docids,\n",
    ")\n",
    "file.to_tsv(f\"{output_dir}/{bmi_dirname}/realq_dev.tsv\")\n",
    "file.to_pandas()"
   ]
  },
  {
   "cell_type": "code",
   "execution_count": 33,
   "metadata": {},
   "outputs": [
    {
     "data": {
      "text/html": [
       "<div>\n",
       "<style scoped>\n",
       "    .dataframe tbody tr th:only-of-type {\n",
       "        vertical-align: middle;\n",
       "    }\n",
       "\n",
       "    .dataframe tbody tr th {\n",
       "        vertical-align: top;\n",
       "    }\n",
       "\n",
       "    .dataframe thead th {\n",
       "        text-align: right;\n",
       "    }\n",
       "</style>\n",
       "<table border=\"1\" class=\"dataframe\">\n",
       "  <thead>\n",
       "    <tr style=\"text-align: right;\">\n",
       "      <th></th>\n",
       "      <th>query</th>\n",
       "      <th>index</th>\n",
       "      <th>docid</th>\n",
       "    </tr>\n",
       "  </thead>\n",
       "  <tbody>\n",
       "    <tr>\n",
       "      <th>0</th>\n",
       "      <td>Dogo Argentino Dogo Argentino Miscellaneous Th...</td>\n",
       "      <td>29-12-4-10</td>\n",
       "      <td>D3233725</td>\n",
       "    </tr>\n",
       "    <tr>\n",
       "      <th>1</th>\n",
       "      <td>How to Kill Weeds Without Killing Plants Weeds...</td>\n",
       "      <td>22-29-13-2</td>\n",
       "      <td>D1885729</td>\n",
       "    </tr>\n",
       "    <tr>\n",
       "      <th>2</th>\n",
       "      <td>How to Learn Martial Arts \"Pressure Points\" Ed...</td>\n",
       "      <td>11-4-17-4</td>\n",
       "      <td>D15500</td>\n",
       "    </tr>\n",
       "    <tr>\n",
       "      <th>3</th>\n",
       "      <td>TMG Trimethylglycine Swanson Ultra TMG Trimeth...</td>\n",
       "      <td>6-7-13-4</td>\n",
       "      <td>D2456256</td>\n",
       "    </tr>\n",
       "    <tr>\n",
       "      <th>4</th>\n",
       "      <td>Elavil Could you or a loved one be experiencin...</td>\n",
       "      <td>27-23-26-13</td>\n",
       "      <td>D3205738</td>\n",
       "    </tr>\n",
       "    <tr>\n",
       "      <th>...</th>\n",
       "      <td>...</td>\n",
       "      <td>...</td>\n",
       "      <td>...</td>\n",
       "    </tr>\n",
       "    <tr>\n",
       "      <th>138452</th>\n",
       "      <td>Fact-checking immigration Fact-checking immigr...</td>\n",
       "      <td>17-1-21-11</td>\n",
       "      <td>D2169873</td>\n",
       "    </tr>\n",
       "    <tr>\n",
       "      <th>138453</th>\n",
       "      <td>Barium Swallow See related health topics and r...</td>\n",
       "      <td>9-1-7-9</td>\n",
       "      <td>D712256</td>\n",
       "    </tr>\n",
       "    <tr>\n",
       "      <th>138454</th>\n",
       "      <td>Best Integrated Development Environment (IDE) ...</td>\n",
       "      <td>11-16-16-8</td>\n",
       "      <td>D3221007</td>\n",
       "    </tr>\n",
       "    <tr>\n",
       "      <th>138455</th>\n",
       "      <td>Fin 310 Chapter 2 12 terms ty_hentges Fin 310 ...</td>\n",
       "      <td>11-10-1-4</td>\n",
       "      <td>D3112790</td>\n",
       "    </tr>\n",
       "    <tr>\n",
       "      <th>138456</th>\n",
       "      <td>The driving distance from Ancona, Italy to Rom...</td>\n",
       "      <td>3-13-0-2</td>\n",
       "      <td>D2803363</td>\n",
       "    </tr>\n",
       "  </tbody>\n",
       "</table>\n",
       "<p>138457 rows × 3 columns</p>\n",
       "</div>"
      ],
      "text/plain": [
       "                                                    query        index  \\\n",
       "0       Dogo Argentino Dogo Argentino Miscellaneous Th...   29-12-4-10   \n",
       "1       How to Kill Weeds Without Killing Plants Weeds...   22-29-13-2   \n",
       "2       How to Learn Martial Arts \"Pressure Points\" Ed...    11-4-17-4   \n",
       "3       TMG Trimethylglycine Swanson Ultra TMG Trimeth...     6-7-13-4   \n",
       "4       Elavil Could you or a loved one be experiencin...  27-23-26-13   \n",
       "...                                                   ...          ...   \n",
       "138452  Fact-checking immigration Fact-checking immigr...   17-1-21-11   \n",
       "138453  Barium Swallow See related health topics and r...      9-1-7-9   \n",
       "138454  Best Integrated Development Environment (IDE) ...   11-16-16-8   \n",
       "138455  Fin 310 Chapter 2 12 terms ty_hentges Fin 310 ...    11-10-1-4   \n",
       "138456  The driving distance from Ancona, Italy to Rom...     3-13-0-2   \n",
       "\n",
       "           docid  \n",
       "0       D3233725  \n",
       "1       D1885729  \n",
       "2         D15500  \n",
       "3       D2456256  \n",
       "4       D3205738  \n",
       "...          ...  \n",
       "138452  D2169873  \n",
       "138453   D712256  \n",
       "138454  D3221007  \n",
       "138455  D3112790  \n",
       "138456  D2803363  \n",
       "\n",
       "[138457 rows x 3 columns]"
      ]
     },
     "execution_count": 33,
     "metadata": {},
     "output_type": "execute_result"
    }
   ],
   "source": [
    "# title_abs.tsv\n",
    "title_abs = docs['doc'].apply(lambda doc: \" \".join(doc.split()[:64]))\n",
    "docids = docs[\"docid\"]\n",
    "indexes = docids.apply(docid2index.get_index)\n",
    "\n",
    "file = DocumentRetrievalTrainingFile(\n",
    "    queries=title_abs,\n",
    "    docids=docids,\n",
    "    indexes=indexes.apply(intarray_to_string),\n",
    ")\n",
    "file.to_tsv(f\"{output_dir}/{bmi_dirname}/title_abs.tsv\")\n",
    "file.to_pandas()"
   ]
  },
  {
   "cell_type": "code",
   "execution_count": 34,
   "metadata": {},
   "outputs": [
    {
     "data": {
      "text/html": [
       "<div>\n",
       "<style scoped>\n",
       "    .dataframe tbody tr th:only-of-type {\n",
       "        vertical-align: middle;\n",
       "    }\n",
       "\n",
       "    .dataframe tbody tr th {\n",
       "        vertical-align: top;\n",
       "    }\n",
       "\n",
       "    .dataframe thead th {\n",
       "        text-align: right;\n",
       "    }\n",
       "</style>\n",
       "<table border=\"1\" class=\"dataframe\">\n",
       "  <thead>\n",
       "    <tr style=\"text-align: right;\">\n",
       "      <th></th>\n",
       "      <th>query</th>\n",
       "      <th>index</th>\n",
       "      <th>docid</th>\n",
       "    </tr>\n",
       "  </thead>\n",
       "  <tbody>\n",
       "    <tr>\n",
       "      <th>0</th>\n",
       "      <td>what is the color of my dogo rancho</td>\n",
       "      <td>29-12-4-10</td>\n",
       "      <td>D3233725</td>\n",
       "    </tr>\n",
       "    <tr>\n",
       "      <th>1</th>\n",
       "      <td>what is the breed name for a argentino mastiff</td>\n",
       "      <td>29-12-4-10</td>\n",
       "      <td>D3233725</td>\n",
       "    </tr>\n",
       "    <tr>\n",
       "      <th>2</th>\n",
       "      <td>what is the breed of dogo argentino</td>\n",
       "      <td>29-12-4-10</td>\n",
       "      <td>D3233725</td>\n",
       "    </tr>\n",
       "    <tr>\n",
       "      <th>3</th>\n",
       "      <td>what is the length of a dogo argentino?</td>\n",
       "      <td>29-12-4-10</td>\n",
       "      <td>D3233725</td>\n",
       "    </tr>\n",
       "    <tr>\n",
       "      <th>4</th>\n",
       "      <td>what type of dogo is the argentino doodle</td>\n",
       "      <td>29-12-4-10</td>\n",
       "      <td>D3233725</td>\n",
       "    </tr>\n",
       "    <tr>\n",
       "      <th>...</th>\n",
       "      <td>...</td>\n",
       "      <td>...</td>\n",
       "      <td>...</td>\n",
       "    </tr>\n",
       "    <tr>\n",
       "      <th>692280</th>\n",
       "      <td>distance between rome and ancona italy</td>\n",
       "      <td>3-13-0-2</td>\n",
       "      <td>D2803363</td>\n",
       "    </tr>\n",
       "    <tr>\n",
       "      <th>692281</th>\n",
       "      <td>distance from ancona to rome italy</td>\n",
       "      <td>3-13-0-2</td>\n",
       "      <td>D2803363</td>\n",
       "    </tr>\n",
       "    <tr>\n",
       "      <th>692282</th>\n",
       "      <td>distance rome italy to ancona</td>\n",
       "      <td>3-13-0-2</td>\n",
       "      <td>D2803363</td>\n",
       "    </tr>\n",
       "    <tr>\n",
       "      <th>692283</th>\n",
       "      <td>how far is italy from ancona</td>\n",
       "      <td>3-13-0-2</td>\n",
       "      <td>D2803363</td>\n",
       "    </tr>\n",
       "    <tr>\n",
       "      <th>692284</th>\n",
       "      <td>how far is ancona from rome</td>\n",
       "      <td>3-13-0-2</td>\n",
       "      <td>D2803363</td>\n",
       "    </tr>\n",
       "  </tbody>\n",
       "</table>\n",
       "<p>692285 rows × 3 columns</p>\n",
       "</div>"
      ],
      "text/plain": [
       "                                                 query       index     docid\n",
       "0                  what is the color of my dogo rancho  29-12-4-10  D3233725\n",
       "1       what is the breed name for a argentino mastiff  29-12-4-10  D3233725\n",
       "2                  what is the breed of dogo argentino  29-12-4-10  D3233725\n",
       "3              what is the length of a dogo argentino?  29-12-4-10  D3233725\n",
       "4            what type of dogo is the argentino doodle  29-12-4-10  D3233725\n",
       "...                                                ...         ...       ...\n",
       "692280          distance between rome and ancona italy    3-13-0-2  D2803363\n",
       "692281              distance from ancona to rome italy    3-13-0-2  D2803363\n",
       "692282                   distance rome italy to ancona    3-13-0-2  D2803363\n",
       "692283                    how far is italy from ancona    3-13-0-2  D2803363\n",
       "692284                     how far is ancona from rome    3-13-0-2  D2803363\n",
       "\n",
       "[692285 rows x 3 columns]"
      ]
     },
     "execution_count": 34,
     "metadata": {},
     "output_type": "execute_result"
    }
   ],
   "source": [
    "# genq.tsv\n",
    "genq = pd.read_csv(f\"{cache_dir}/{genq_model_identifier}/genq.tsv\", usecols=[\"docid\", \"query\"], sep=\"\\t\")\n",
    "docids = genq[\"docid\"]\n",
    "indexes = docids.apply(docid2index.get_index)\n",
    "\n",
    "file = DocumentRetrievalTrainingFile(\n",
    "    queries=genq[\"query\"],\n",
    "    docids=docids,\n",
    "    indexes=indexes.apply(intarray_to_string),\n",
    ")\n",
    "file.to_tsv(f\"{output_dir}/{bmi_dirname}/genq.tsv\")\n",
    "file.to_pandas()"
   ]
  },
  {
   "cell_type": "code",
   "execution_count": 35,
   "metadata": {},
   "outputs": [
    {
     "data": {
      "text/html": [
       "<div>\n",
       "<style scoped>\n",
       "    .dataframe tbody tr th:only-of-type {\n",
       "        vertical-align: middle;\n",
       "    }\n",
       "\n",
       "    .dataframe tbody tr th {\n",
       "        vertical-align: top;\n",
       "    }\n",
       "\n",
       "    .dataframe thead th {\n",
       "        text-align: right;\n",
       "    }\n",
       "</style>\n",
       "<table border=\"1\" class=\"dataframe\">\n",
       "  <thead>\n",
       "    <tr style=\"text-align: right;\">\n",
       "      <th></th>\n",
       "      <th>query</th>\n",
       "      <th>index</th>\n",
       "      <th>docid</th>\n",
       "    </tr>\n",
       "  </thead>\n",
       "  <tbody>\n",
       "    <tr>\n",
       "      <th>0</th>\n",
       "      <td>Dogos require vigorous exercise to stay at the...</td>\n",
       "      <td>29-12-4-10</td>\n",
       "      <td>D3233725</td>\n",
       "    </tr>\n",
       "    <tr>\n",
       "      <th>1</th>\n",
       "      <td>its physical virtues turn it into a real athle...</td>\n",
       "      <td>29-12-4-10</td>\n",
       "      <td>D3233725</td>\n",
       "    </tr>\n",
       "    <tr>\n",
       "      <th>2</th>\n",
       "      <td>pounds Life Expectancy: 9-15 years Barking Lev...</td>\n",
       "      <td>29-12-4-10</td>\n",
       "      <td>D3233725</td>\n",
       "    </tr>\n",
       "    <tr>\n",
       "      <th>3</th>\n",
       "      <td>&amp; Feeding Good nutrition for Dogo Argentinos i...</td>\n",
       "      <td>29-12-4-10</td>\n",
       "      <td>D3233725</td>\n",
       "    </tr>\n",
       "    <tr>\n",
       "      <th>4</th>\n",
       "      <td>Expectancy: 9-15 years Barking Level: Barks Wh...</td>\n",
       "      <td>29-12-4-10</td>\n",
       "      <td>D3233725</td>\n",
       "    </tr>\n",
       "    <tr>\n",
       "      <th>...</th>\n",
       "      <td>...</td>\n",
       "      <td>...</td>\n",
       "      <td>...</td>\n",
       "    </tr>\n",
       "    <tr>\n",
       "      <th>1391428</th>\n",
       "      <td>driving distance for a different route. If you...</td>\n",
       "      <td>3-13-0-2</td>\n",
       "      <td>D2803363</td>\n",
       "    </tr>\n",
       "    <tr>\n",
       "      <th>1391429</th>\n",
       "      <td>another possible route, you can try Google Map...</td>\n",
       "      <td>3-13-0-2</td>\n",
       "      <td>D2803363</td>\n",
       "    </tr>\n",
       "    <tr>\n",
       "      <th>1391430</th>\n",
       "      <td>from Ancona, Italy to Rome, Italy is:193 miles...</td>\n",
       "      <td>3-13-0-2</td>\n",
       "      <td>D2803363</td>\n",
       "    </tr>\n",
       "    <tr>\n",
       "      <th>1391431</th>\n",
       "      <td>Rome road trip Map of driving directions from ...</td>\n",
       "      <td>3-13-0-2</td>\n",
       "      <td>D2803363</td>\n",
       "    </tr>\n",
       "    <tr>\n",
       "      <th>1391432</th>\n",
       "      <td>time from Ancona, Italy to Rome, Italycost of ...</td>\n",
       "      <td>3-13-0-2</td>\n",
       "      <td>D2803363</td>\n",
       "    </tr>\n",
       "  </tbody>\n",
       "</table>\n",
       "<p>1391433 rows × 3 columns</p>\n",
       "</div>"
      ],
      "text/plain": [
       "                                                     query       index  \\\n",
       "0        Dogos require vigorous exercise to stay at the...  29-12-4-10   \n",
       "1        its physical virtues turn it into a real athle...  29-12-4-10   \n",
       "2        pounds Life Expectancy: 9-15 years Barking Lev...  29-12-4-10   \n",
       "3        & Feeding Good nutrition for Dogo Argentinos i...  29-12-4-10   \n",
       "4        Expectancy: 9-15 years Barking Level: Barks Wh...  29-12-4-10   \n",
       "...                                                    ...         ...   \n",
       "1391428  driving distance for a different route. If you...    3-13-0-2   \n",
       "1391429  another possible route, you can try Google Map...    3-13-0-2   \n",
       "1391430  from Ancona, Italy to Rome, Italy is:193 miles...    3-13-0-2   \n",
       "1391431  Rome road trip Map of driving directions from ...    3-13-0-2   \n",
       "1391432  time from Ancona, Italy to Rome, Italycost of ...    3-13-0-2   \n",
       "\n",
       "            docid  \n",
       "0        D3233725  \n",
       "1        D3233725  \n",
       "2        D3233725  \n",
       "3        D3233725  \n",
       "4        D3233725  \n",
       "...           ...  \n",
       "1391428  D2803363  \n",
       "1391429  D2803363  \n",
       "1391430  D2803363  \n",
       "1391431  D2803363  \n",
       "1391432  D2803363  \n",
       "\n",
       "[1391433 rows x 3 columns]"
      ]
     },
     "execution_count": 35,
     "metadata": {},
     "output_type": "execute_result"
    }
   ],
   "source": [
    "# docseg.tsv\n",
    "docseg = pd.read_csv(f\"{cache_dir}/docseg.tsv\", usecols=[\"docid\", \"query\"], sep=\"\\t\")\n",
    "docids = docseg[\"docid\"]\n",
    "indexes = docids.apply(docid2index.get_index)\n",
    "\n",
    "file = DocumentRetrievalTrainingFile(\n",
    "    queries=docseg[\"query\"],\n",
    "    docids=docids,\n",
    "    indexes=indexes.apply(intarray_to_string),\n",
    ")\n",
    "file.to_tsv(f\"{output_dir}/{bmi_dirname}/docseg.tsv\")\n",
    "file.to_pandas()"
   ]
  },
  {
   "cell_type": "code",
   "execution_count": null,
   "metadata": {},
   "outputs": [],
   "source": []
  },
  {
   "cell_type": "code",
   "execution_count": null,
   "metadata": {},
   "outputs": [],
   "source": []
  }
 ],
 "metadata": {
  "kernelspec": {
   "display_name": "Python 3 (ipykernel)",
   "language": "python",
   "name": "python3"
  },
  "language_info": {
   "codemirror_mode": {
    "name": "ipython",
    "version": 3
   },
   "file_extension": ".py",
   "mimetype": "text/x-python",
   "name": "python",
   "nbconvert_exporter": "python",
   "pygments_lexer": "ipython3",
   "version": "3.10.12"
  }
 },
 "nbformat": 4,
 "nbformat_minor": 4
}
